{
 "cells": [
  {
   "cell_type": "markdown",
   "id": "b792d1ef-5fd8-4051-b8eb-1dd7bade6b6d",
   "metadata": {},
   "source": [
    "question 1 \n",
    " What is Python, and why is it popular?\n",
    "\n",
    "\n",
    " \n",
    "answer 1 \n",
    "Python is a high-level, interpreted programming language known for its simplicity, \n",
    "readability, and flexibility. Created by Guido van Rossum and first released in 1991,\n",
    "Python has become one of the most popular programming languages in the world due to its user-friendly \n",
    "syntax and wide range of applications."
   ]
  },
  {
   "cell_type": "markdown",
   "id": "962ae4c9-b040-4a41-8ef6-51262d7f7624",
   "metadata": {},
   "source": [
    "question 2\n",
    " What is an interpreter in Python?\n",
    "\n",
    "\n",
    "\n",
    "answer 2\n",
    "An interpreter in Python is a program that reads and runs your Python code line by line. \n",
    "It translates each line into a language the computer understands and executes it immediately."
   ]
  },
  {
   "cell_type": "markdown",
   "id": "fbf4200e-71f9-48e2-b9a3-79115e0bc262",
   "metadata": {},
   "source": [
    "question 3 \n",
    "What are pre-defined keywords in Python?\n",
    "\n",
    "\n",
    "\n",
    "\n",
    "\n",
    "answer 3 \n",
    "Pre define keywords in python or in any other programimng language  are reserved type word which \n",
    "we can not use to define a variable and declaration for name in python for user define words  \n"
   ]
  },
  {
   "cell_type": "markdown",
   "id": "406786a6-30cf-4239-82e8-ef8b0ae98534",
   "metadata": {},
   "source": [
    "question 4\n",
    "Can keywords be used as variable names?\n",
    "\n",
    "\n",
    "\n",
    "\n",
    "answer 4\n",
    "no we can not use keywords as a variable names "
   ]
  },
  {
   "cell_type": "markdown",
   "id": "eb50ea65-82ce-47ac-8eed-26aa71b8f196",
   "metadata": {},
   "source": [
    "question 5 \n",
    "What is mutability in Python?\n",
    "\n",
    "\n",
    "\n",
    "\n",
    "answer 5\n",
    "Mutability in Python refers to whether an object can be changed or modified after it is created."
   ]
  },
  {
   "cell_type": "markdown",
   "id": "7ed69b28-e02f-43e9-a172-fc0ee5983004",
   "metadata": {},
   "source": [
    "question 6 \n",
    "Why are lists mutable, but tuples are immutable?\n",
    "\n",
    "\n",
    "answer 6\n",
    "Lists are mutable because they are designed to be flexible and allow changes like adding, removing, or modifying elements after creation.\n",
    "\n",
    "Tuples are immutable to ensure data integrity, safety, and better performance in cases where the data should not be changed, and they can be used as dictionary keys.\n"
   ]
  },
  {
   "cell_type": "markdown",
   "id": "668fa227-6b73-4969-b86c-b834e3208870",
   "metadata": {},
   "source": [
    "question 7 \n",
    "What is the difference between “==” and “is” operators in Python?\n",
    "\n",
    "\n",
    "\n",
    "answer 7 \n",
    "==: Compares values of two objects to check if they are equal.\n",
    "\n",
    "\n",
    "is: Compares identity of two objects to check if they are the same object in memory."
   ]
  },
  {
   "cell_type": "markdown",
   "id": "125fb68e-e60a-42e4-9ace-e0d6332ef3c8",
   "metadata": {},
   "source": [
    "question 8 \n",
    "What are logical operators in Python?\n",
    "\n",
    "\n",
    "\n",
    "answer 8 \n",
    "\n",
    "\n",
    " logical operators are used to combine conditional statements:\n",
    "\n",
    "\n",
    "and: Returns True if both conditions are true.\n",
    "\n",
    "\n",
    "or: Returns True if at least one condition is true.\n",
    "\n",
    "\n",
    "not: Returns True if the condition is false.\n"
   ]
  },
  {
   "cell_type": "markdown",
   "id": "16fb6c9e-b5ea-4171-b79d-dfdd1ae1bb28",
   "metadata": {},
   "source": [
    "question 9 \n",
    "What is type casting in Python?\n",
    "\n",
    "\n",
    "\n",
    "answer 9\n",
    "\n",
    "Changing of data type is known as type casting \n",
    "or changing the varaibale data from one data type another is knowwn as type casting"
   ]
  },
  {
   "cell_type": "markdown",
   "id": "43c61536-a373-4720-8b7f-0a2561d51ca6",
   "metadata": {},
   "source": [
    "question 10 \n",
    "What is the difference between implicit and explicit type casting?\n",
    "\n",
    "\n",
    "\n",
    "\n",
    "answer 10 \n",
    "\n",
    "\n",
    "\n",
    "Implicit Type Casting: Python automatically converts one data type to another, usually from a smaller to a larger type (e.g., int to float).\n",
    "\n",
    "\n",
    "\n",
    "\n",
    "Explicit Type Casting: The programmer manually converts one data type to another using functions like int(), float(), etc."
   ]
  },
  {
   "cell_type": "markdown",
   "id": "f7040b87-47d7-4dda-b182-2d5187b864b4",
   "metadata": {},
   "source": [
    "question 11 \n",
    "\n",
    "What is the purpose of conditional statements in Python?\n",
    "\n",
    "\n",
    "answer 11\n",
    "\n",
    "\n",
    "\n",
    "\n",
    "Conditional statements in Python allow you to execute certain blocks of code based on whether a \n",
    "\n",
    "condition is true or false.\n",
    "\n",
    "if: Executes a block of code if the condition is true.\n",
    "\n",
    "    \n",
    "elif: Checks additional conditions if the previous if or elif conditions were false.\n",
    "\n",
    "    \n",
    "    \n",
    "    \n",
    "else: Executes code if none of the previous conditions are true."
   ]
  },
  {
   "cell_type": "markdown",
   "id": "984a6798-e521-45f7-b25c-269f46b2766d",
   "metadata": {},
   "source": [
    "question 12 \n",
    "\n",
    "How does the elif statement work?\n",
    "\n",
    "\n",
    "\n",
    "answer 12\n",
    "\n",
    "\n",
    "\n",
    "he elif statement in Python allows you to check multiple conditions if the previous if or elif conditions were false. It stands for \"else if\" and helps to check additional conditions."
   ]
  },
  {
   "cell_type": "markdown",
   "id": "7f99d4a5-f6da-4cc6-a5b3-a57c17fdbf06",
   "metadata": {},
   "source": [
    "question 13 \n",
    "What is the difference between for and while loops?\n",
    "\n",
    "\n",
    "\n",
    "answer 13\n",
    "\n",
    "\n",
    "\n",
    "for loop: Used to iterate over a sequence (like a list, tuple, or range) for a fixed number of times.\n",
    "\n",
    "\n",
    "\n",
    "while loop: Repeats as long as a condition is true. The number of iterations is not fixed in advance.\n"
   ]
  },
  {
   "cell_type": "markdown",
   "id": "f2a98940-d805-41c3-9530-ab159fe971f0",
   "metadata": {},
   "source": [
    "question 14\n",
    "\n",
    "Describe a scenario where a while loop is more suitable than a for loop.\n",
    "\n",
    "\n",
    "answer 14 \n",
    "\n",
    "\n",
    "\n",
    "A while loop is better when you don’t know how many times the loop will run and it depends on a condition.\n"
   ]
  },
  {
   "cell_type": "markdown",
   "id": "6d492f57-e778-479c-9345-42c3b8693012",
   "metadata": {},
   "source": [
    "practical Questions "
   ]
  },
  {
   "cell_type": "code",
   "execution_count": 37,
   "id": "1e0bcd23-ae9b-40a4-a034-26801338f868",
   "metadata": {},
   "outputs": [
    {
     "name": "stdout",
     "output_type": "stream",
     "text": [
      "Hello, World!\n"
     ]
    }
   ],
   "source": [
    "#1 Write a Python program to print \"Hello, World!_\n",
    "print(\"Hello, World!\")"
   ]
  },
  {
   "cell_type": "code",
   "execution_count": 39,
   "id": "ebe7f56b-b127-4bd6-a0b7-1b9bea22fa41",
   "metadata": {},
   "outputs": [
    {
     "name": "stdin",
     "output_type": "stream",
     "text": [
      "enter name sanchita\n",
      "enter age 25\n"
     ]
    },
    {
     "name": "stdout",
     "output_type": "stream",
     "text": [
      " My name is  sanchita My age is 25\n"
     ]
    }
   ],
   "source": [
    "#2 Write a Python program that displays your name and age\n",
    "\n",
    "a = input(\"enter name\")\n",
    "b = int(input(\"enter age\"))\n",
    "print(\" My name is \", a , \"My age is\" , b)"
   ]
  },
  {
   "cell_type": "code",
   "execution_count": 51,
   "id": "401ced62-2466-4f10-bd48-9aebeb023748",
   "metadata": {},
   "outputs": [
    {
     "name": "stdout",
     "output_type": "stream",
     "text": [
      "The list of keywords is : \n",
      "['False', 'None', 'True', 'and', 'as', 'assert', 'async', 'await', 'break', 'class', 'continue', 'def', 'del', 'elif', 'else', 'except', 'finally', 'for', 'from', 'global', 'if', 'import', 'in', 'is', 'lambda', 'nonlocal', 'not', 'or', 'pass', 'raise', 'return', 'try', 'while', 'with', 'yield']\n"
     ]
    }
   ],
   "source": [
    "#3 Write code to print all the pre-defined keywords in Python using the keyword library\n",
    "import keyword\n",
    "#In Python, kwlist is a list provided by the keyword module that contains all the reserved keywords in Python. \n",
    "#These are the words that are predefined by Python and cannot be used as variable names or identifiers.\n",
    "# printing all keywords at once using \"kwlist()\"\n",
    "print(\"The list of keywords is : \")\n",
    "print(keyword.kwlist)"
   ]
  },
  {
   "cell_type": "code",
   "execution_count": 49,
   "id": "8475ec5c-15d7-4365-bb8f-e77f158dae09",
   "metadata": {},
   "outputs": [
    {
     "name": "stdin",
     "output_type": "stream",
     "text": [
      "Enter any word to check whether it's a predefined keyword or not:  nor\n"
     ]
    },
    {
     "name": "stdout",
     "output_type": "stream",
     "text": [
      "Great, it's not a reserved keyword.\n"
     ]
    }
   ],
   "source": [
    "#4 Write a program that checks if a given word is a Python keyword\n",
    "import keyword\n",
    "\n",
    "word = input(\"Enter any word to check whether it's a predefined keyword or not: \")\n",
    "\n",
    "if word in keyword.kwlist:\n",
    "    print(\"It's a reserved keyword in Python.\")\n",
    "else:\n",
    "    print(\"Great, it's not a reserved keyword.\")"
   ]
  },
  {
   "cell_type": "code",
   "execution_count": 53,
   "id": "43ae2e65-a2ce-4e45-a448-9641c97a3543",
   "metadata": {},
   "outputs": [],
   "source": [
    "#5 Create a list and tuple in Python, and demonstrate how attempting to change an element works differently for each\n",
    "\n",
    "\n",
    "my_list = [1, 2, 3, 4]\n",
    "my_tuple = (1, 2, 3, 4)"
   ]
  },
  {
   "cell_type": "code",
   "execution_count": 57,
   "id": "166cbaf5-1a52-4b16-a04e-d0bbd710b5cd",
   "metadata": {},
   "outputs": [
    {
     "data": {
      "text/plain": [
       "[100, 2, 3, 4]"
      ]
     },
     "execution_count": 57,
     "metadata": {},
     "output_type": "execute_result"
    }
   ],
   "source": [
    "# changeing value for list\n",
    "my_list[0] = 100\n",
    "my_list"
   ]
  },
  {
   "cell_type": "code",
   "execution_count": 59,
   "id": "8fb585ae-781e-47d0-9055-cf35d1a07683",
   "metadata": {},
   "outputs": [
    {
     "ename": "TypeError",
     "evalue": "'tuple' object does not support item assignment",
     "output_type": "error",
     "traceback": [
      "\u001b[1;31m---------------------------------------------------------------------------\u001b[0m",
      "\u001b[1;31mTypeError\u001b[0m                                 Traceback (most recent call last)",
      "Cell \u001b[1;32mIn[59], line 2\u001b[0m\n\u001b[0;32m      1\u001b[0m \u001b[38;5;66;03m# changing values for tuple \u001b[39;00m\n\u001b[1;32m----> 2\u001b[0m my_tuple[\u001b[38;5;241m0\u001b[39m] \u001b[38;5;241m=\u001b[39m \u001b[38;5;241m100\u001b[39m\n\u001b[0;32m      3\u001b[0m my_tuple\n",
      "\u001b[1;31mTypeError\u001b[0m: 'tuple' object does not support item assignment"
     ]
    }
   ],
   "source": [
    "# changing values for tuple \n",
    "my_tuple[0] = 100  # This will raise an error because tuples are immutable\n",
    "my_tuple"
   ]
  },
  {
   "cell_type": "code",
   "execution_count": 61,
   "id": "128862c3-3357-4c91-9a47-41c40d72dce8",
   "metadata": {},
   "outputs": [],
   "source": [
    "#6 Write a function to demonstrate the behavior of mutable and immutable arguments\n"
   ]
  },
  {
   "cell_type": "code",
   "execution_count": 63,
   "id": "009676b1-70ef-4e54-bb4a-0b5be0f595ca",
   "metadata": {},
   "outputs": [],
   "source": [
    "#7 Write a function to demonstrate the behavior of mutable and immutable arguments0"
   ]
  },
  {
   "cell_type": "code",
   "execution_count": 73,
   "id": "45bcf3be-6695-4c6e-a3d7-115eabd1bcde",
   "metadata": {},
   "outputs": [
    {
     "name": "stdin",
     "output_type": "stream",
     "text": [
      "Enter a number:  -9\n",
      "Enter another number:  8\n"
     ]
    },
    {
     "name": "stdout",
     "output_type": "stream",
     "text": [
      "At least one number is positive.\n"
     ]
    }
   ],
   "source": [
    "#8 Write a program to demonstrate the use of logical operators\n",
    "\n",
    "x = int(input(\"Enter a number: \")) # Get user input\n",
    "y = int(input(\"Enter another number: \")) # Get user input\n",
    "\n",
    "# Using 'and' operator: True if both conditions are true\n",
    "if x > 0 and y > 0:\n",
    "    print(\"Both numbers are positive.\")\n",
    "\n",
    "# Using 'or' operator: True if at least one condition is true\n",
    "if x > 0 or y > 0:\n",
    "    print(\"At least one number is positive.\")\n",
    "\n",
    "# Using 'not' operator: True if the condition is false\n",
    "if not(x < 0):\n",
    "    print(\"First number is non-negative.\")\n",
    "    \n",
    "\n"
   ]
  },
  {
   "cell_type": "code",
   "execution_count": 83,
   "id": "fa8ca840-524b-4f73-a244-1d2a98602c95",
   "metadata": {},
   "outputs": [
    {
     "name": "stdin",
     "output_type": "stream",
     "text": [
      "enter your age 10\n"
     ]
    },
    {
     "name": "stdout",
     "output_type": "stream",
     "text": [
      "before convert <class 'str'>\n",
      "after convert in integer <class 'int'> 10\n",
      "after convert in float <class 'float'> 10.0\n",
      "after convert in boolean  <class 'bool'> True\n"
     ]
    }
   ],
   "source": [
    "#9 Write a Python program to convert user input from string to integer, float, and boolean types\n",
    "a = input(\"enter your age\")\n",
    "print(\"before convert\" ,type(a))\n",
    "a = int(a)\n",
    "print(\"after convert in integer\",type(a),a)\n",
    "a = float(a)\n",
    "print(\"after convert in float\",type(a) ,a)\n",
    "a = bool(a)\n",
    "print(\"after convert in boolean \",type(a) ,a)"
   ]
  },
  {
   "cell_type": "code",
   "execution_count": 85,
   "id": "9b773199-da76-4573-bb87-8578509f9ec0",
   "metadata": {},
   "outputs": [
    {
     "name": "stdout",
     "output_type": "stream",
     "text": [
      "Original list: ['10', '20', '30', '40']\n",
      "List after type casting to integers: [10, 20, 30, 40]\n"
     ]
    }
   ],
   "source": [
    "#10 Write code to demonstrate type casting with list elements\n",
    "\n",
    "# List with different data types\n",
    "my_list = [\"10\", \"20\", \"30\", \"40\"]\n",
    "\n",
    "print(\"Original list:\", my_list)\n",
    "\n",
    "# Type casting from string to integer for each element\n",
    "my_list = [int(i) for i in my_list]\n",
    "\n",
    "print(\"List after type casting to integers:\", my_list)\n"
   ]
  },
  {
   "cell_type": "code",
   "execution_count": 91,
   "id": "38a304ab-544f-4579-8e36-60c68746f17a",
   "metadata": {},
   "outputs": [
    {
     "name": "stdin",
     "output_type": "stream",
     "text": [
      "enter a number to check weather is positive , negative or zero:- 0\n"
     ]
    },
    {
     "name": "stdout",
     "output_type": "stream",
     "text": [
      "number is zero 0\n"
     ]
    }
   ],
   "source": [
    "#11 Write a program that checks if a number is positive, negative, or zero\n",
    "\n",
    "number = int(input(\"enter a number to check weather is positive , negative or zero:-\"))\n",
    "\n",
    "if number > 0 :\n",
    "    print(\"positive number\", number)\n",
    "elif number < 0:\n",
    "    print(\" number is negative\", number)\n",
    "else :\n",
    "    print(\"number is zero\", number)"
   ]
  },
  {
   "cell_type": "code",
   "execution_count": 95,
   "id": "26956cd7-b882-46b8-a8ef-025a66fd1544",
   "metadata": {},
   "outputs": [
    {
     "name": "stdout",
     "output_type": "stream",
     "text": [
      "1\n",
      "2\n",
      "3\n",
      "4\n",
      "5\n",
      "6\n",
      "7\n",
      "8\n",
      "9\n",
      "10\n"
     ]
    }
   ],
   "source": [
    "#12  Write a for loop to print numbers from 1 to 100\n",
    "n = 11\n",
    "i = 1\n",
    "while i < n:\n",
    "    print(i)\n",
    "    i = i + 1\n"
   ]
  },
  {
   "cell_type": "code",
   "execution_count": 97,
   "id": "10d15030-42f1-4f9e-b283-6f1b98e31e76",
   "metadata": {},
   "outputs": [
    {
     "name": "stdout",
     "output_type": "stream",
     "text": [
      "The sum of all even numbers between 1 and 500 is: 650\n"
     ]
    }
   ],
   "source": [
    "#13 Write a Python program to find the sum of all even numbers between 1 and 50\n",
    "# Initialize the sum variable\n",
    "sum_of_evens = 0\n",
    "\n",
    "# Loop through numbers from 1 to 50\n",
    "for num in range(2, 51, 2):  # Starts from 2 and steps by 2 (even numbers)\n",
    "    sum_of_evens += num\n",
    "\n",
    "# Print the result\n",
    "print(\"The sum of all even numbers between 1 and 500 is:\", sum_of_evens)\n"
   ]
  },
  {
   "cell_type": "code",
   "execution_count": 99,
   "id": "eb72f8a7-9fda-420d-b992-44ff42a86a8f",
   "metadata": {},
   "outputs": [
    {
     "name": "stdin",
     "output_type": "stream",
     "text": [
      "Enter a string:  abcdefghijklmnop\n"
     ]
    },
    {
     "name": "stdout",
     "output_type": "stream",
     "text": [
      "Reversed string: ponmlkjihgfedcba\n"
     ]
    }
   ],
   "source": [
    "#14 Write a program to reverse a string using a while loop\n",
    "\n",
    "string = input(\"Enter a string: \")\n",
    "\n",
    "# Initialize variables\n",
    "reversed_string = \"\"\n",
    "index = len(string) - 1\n",
    "\n",
    "# Reverse the string using while loop\n",
    "while index >= 0:\n",
    "    reversed_string += string[index]\n",
    "    index -= 1\n",
    "\n",
    "# Print the reversed string\n",
    "print(\"Reversed string:\", reversed_string)\n",
    "\n"
   ]
  },
  {
   "cell_type": "code",
   "execution_count": 105,
   "id": "871b3955-6aab-431c-89b7-faf3f142ec37",
   "metadata": {},
   "outputs": [
    {
     "name": "stdin",
     "output_type": "stream",
     "text": [
      "Enter a number to check its factorial:  4\n"
     ]
    },
    {
     "name": "stdout",
     "output_type": "stream",
     "text": [
      "The factorial of 4 is 24\n"
     ]
    }
   ],
   "source": [
    "#15 Write a Python program to calculate the factorial of a number provided by the user using a while loop\n",
    "number = int(input(\"Enter a number to check its factorial: \"))\n",
    "factorial = 1 \n",
    "i = 1\n",
    "while i <= number:\n",
    "    factorial *= i  # Multiply factorial by i\n",
    "    i += 1  \n",
    "\n",
    "print(f\"The factorial of {number} is {factorial}\")"
   ]
  },
  {
   "cell_type": "code",
   "execution_count": null,
   "id": "210d4b28-bf22-4abc-be5e-01598eb52764",
   "metadata": {},
   "outputs": [],
   "source": []
  }
 ],
 "metadata": {
  "kernelspec": {
   "display_name": "Python 3 (ipykernel)",
   "language": "python",
   "name": "python3"
  },
  "language_info": {
   "codemirror_mode": {
    "name": "ipython",
    "version": 3
   },
   "file_extension": ".py",
   "mimetype": "text/x-python",
   "name": "python",
   "nbconvert_exporter": "python",
   "pygments_lexer": "ipython3",
   "version": "3.12.7"
  }
 },
 "nbformat": 4,
 "nbformat_minor": 5
}
