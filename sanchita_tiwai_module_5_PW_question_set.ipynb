{
 "cells": [
  {
   "cell_type": "markdown",
   "id": "c8a7b855-1666-4943-afb5-922f3aeec4fd",
   "metadata": {},
   "source": [
    "#theory questions"
   ]
  },
  {
   "cell_type": "code",
   "execution_count": 4,
   "id": "5e342e02-fb23-4650-90e4-03f557a8a02b",
   "metadata": {},
   "outputs": [],
   "source": [
    "#question1 :-What is Object-Oriented Programming (OOP)?\n",
    "#answer1  :- Object-Oriented Programming (OOP) is a programming style that uses \"objects\" to organize code.\n",
    "#These objects are instances of classes, which define attributes (data) and methods (functions).\n",
    "#Key concepts in OOP include: inheritance, encaplusation, ploymorphsim , data abstraction, classes, and object "
   ]
  },
  {
   "cell_type": "code",
   "execution_count": 9,
   "id": "04d702eb-94ce-4634-b4d7-178d5c36c066",
   "metadata": {},
   "outputs": [],
   "source": [
    "#question 2:- What is a class in OOP?\n",
    "#answer 2:-In Object-Oriented Programming (OOP), a class is a blueprint or template for creating objects (instances).\n",
    "#It defines the structure and behavior (attributes and methods) that the objects created from the class will have.\n",
    "#A class itself doesn't represent a specific object, but rather provides the foundation from which individual objects \n",
    "#can be instantiated.\n",
    "\n",
    "\n",
    "# syntax to create class \n",
    "#class class_name >>> here class is pre define keyword by python that we need to use before declaring class\n",
    "#and class name should be user define under nameing rule as per python  \n"
   ]
  },
  {
   "cell_type": "code",
   "execution_count": null,
   "id": "a72763b0-ce2e-46c2-bc3b-f0c779891355",
   "metadata": {},
   "outputs": [],
   "source": [
    "#question 3:- What is an object in OOP?\n",
    "#answer 3:- object are instance of the class in oops \n",
    "#to create object \n",
    "#object_name = class_name()\n"
   ]
  },
  {
   "cell_type": "code",
   "execution_count": 11,
   "id": "a5943cfb-58cd-4613-bfaa-17bad1b41fc6",
   "metadata": {},
   "outputs": [],
   "source": [
    "#question 4:- What is the difference between abstraction and encapsulation?\n",
    "#answer 4:- Abstraction and Encapsulation are two fundamental concepts in Object-Oriented Programming (OOP), but they serve different purposes:\n",
    "\n",
    "#1. Abstraction\n",
    "#Purpose: To hide the complex implementation details and expose only the essential features or interface.\n",
    "#Focus: Hides the how (implementation) and shows the what (functionality).\n",
    "#Example: Think of a TV remote: you don't need to know how the remote works internally, \n",
    "#you only need to know how to turn it on or change the volume.\n",
    "\n",
    "\n",
    "\n",
    "\n",
    "\n",
    "#2. Encapsulation\n",
    "#Purpose: To bundle data (attributes) and methods (functions) into a single unit and restrict access to \n",
    "#certain components, thus protecting an object's state from unwanted changes.\n",
    "#Focus: Hides the data and controls access through methods, using access modifiers \n",
    "#like private, protected, and public.\n",
    "#Example: A bank account class that hides the actual balance and only allows changes via methods like deposit() \n",
    "#or withdraw()."
   ]
  },
  {
   "cell_type": "code",
   "execution_count": 13,
   "id": "fe785b06-bb2f-405e-8c8f-cbbc226e23d1",
   "metadata": {},
   "outputs": [],
   "source": [
    "#question 5 :- What are dunder methods in Python?\n",
    "#answer 5:- they are magical or special type of pre define or in-built function.\n",
    "#which are represented by __function_name__\n",
    "#were the name it self say d mean double and under means underscore "
   ]
  },
  {
   "cell_type": "code",
   "execution_count": 53,
   "id": "86c8b5b0-27b1-434a-b7d0-4c5685881d90",
   "metadata": {},
   "outputs": [],
   "source": [
    "#question 6:-  Explain the concept of inheritance in OOP?\n",
    "#answer 6:- inheritance is the concept of opps which contain of base class and derived class \n",
    "#which is also known as parent class and child class \n",
    "#inhertance means the child class can have access to the property and behaviours of parents class \n",
    "#in python inhertance are of 5 types \n",
    "#Single Inheritance: One parent class.\n",
    "#Multiple Inheritance: Multiple parent classes.\n",
    "#Multilevel Inheritance: Parent class inherits from a base class.\n",
    "#Hierarchical Inheritance: Multiple child classes from a single parent class.\n",
    "#Hybrid Inheritance: Combination of multiple types of inheritance."
   ]
  },
  {
   "cell_type": "code",
   "execution_count": 55,
   "id": "8e637f9f-0e22-4271-9da0-b4431a50a5d9",
   "metadata": {},
   "outputs": [],
   "source": [
    "#question 7:-What is polymorphism in OOP?\n",
    "#answer 7:- poly mean many morphism mean form which mean many form of one things which can be archive \n",
    "# run time and compiletime \n",
    "#The key idea behind polymorphism is that different objects can respond to the same method or \n",
    "#function call in different ways.\n",
    "\n",
    "#Two Main Types of Polymorphism in Python:\n",
    "#Method Overriding (Runtime Polymorphism)\n",
    "#Method Overloading (Not directly supported in Python, but can be mimicked)"
   ]
  },
  {
   "cell_type": "code",
   "execution_count": 57,
   "id": "b41195c7-8476-428e-85d2-e55da9ed94f2",
   "metadata": {},
   "outputs": [],
   "source": [
    "#question 8:- How is encapsulation achieved in Python?\n",
    "#answer 8:-\n",
    "#encapsulation  >> hidding something \n",
    "#bundling of data and method of a class\n",
    "#access modifier >>> public , procted, private\n",
    "#public accessible from anywhere from outside/inside of class\n",
    "#private >> the data and method is only accessible within its class , use __ to make private\n",
    "#protected >>>>> within the class and its subclass, protected member can be access, \n",
    "#(_) represented by single underscore"
   ]
  },
  {
   "cell_type": "code",
   "execution_count": 59,
   "id": "03381de5-3a28-4058-88b0-7d3fd20646f2",
   "metadata": {},
   "outputs": [],
   "source": [
    "#question 9:- What is a constructor in Python?\n",
    "#answer 9:-n Python, a constructor is a special method used to initialize a newly created object.\n",
    "#It is called automatically when an object of a class is instantiated. The constructor is typically used to set up the initial state of the object by assigning values to its attributes.\n",
    "\n",
    "#The Constructor in Python:\n",
    "#The constructor method is called __init__.\n",
    "#It is automatically invoked when an object is created.\n",
    "#It allows you to initialize the object's attributes with specific values when the object is instantiated."
   ]
  },
  {
   "cell_type": "code",
   "execution_count": 61,
   "id": "9513268a-6162-4908-b083-81d8ca9185d6",
   "metadata": {},
   "outputs": [],
   "source": [
    "#question 10:- What are class and static methods in Python?\n",
    "#answer 10:- #class method >> bound to the class(and not to a particular instance of the class), access/modify methods \n",
    "#and attributes associated to  class accross all the instances\n",
    "#@classmethod decorator\n",
    "#instead of self, cls as first parameter\n",
    "#earlier to access any method / attribute >>>> first make instance/object of class then obj.attribute\n",
    "#but if it is class method you can directly access it \n",
    "#alternative of init method \n",
    "\n",
    "#static method\n",
    "#does not modify class or instance state, doesnt access instance or class state \n",
    "#doesnt access instance or class state\n",
    "#doent depend on class/instance\n",
    "#it behaves  like a plain function that belongs to class\n",
    "#it doesnt take either self or cls\n",
    "#works with the paramenter pass "
   ]
  },
  {
   "cell_type": "code",
   "execution_count": 63,
   "id": "9c3953d8-648d-41cf-bc98-bd6707cf9f05",
   "metadata": {},
   "outputs": [],
   "source": [
    "#question 11:- What is method overloading in Python?\n",
    "#answer 11:-method overloading refers to the ability to define multiple methods with the same name\n",
    "#but different parameter lists\n",
    "#method overloading truly not supported by python \n",
    "#seeing class method as alternative of init method  >> actually class method is overloading the init method "
   ]
  },
  {
   "cell_type": "code",
   "execution_count": 65,
   "id": "3e0bd874-68da-4634-87ab-ae95fc5b5cb9",
   "metadata": {},
   "outputs": [],
   "source": [
    "#question 12:-What is method overriding in OOP?\n",
    "\n",
    "#answer 12:-Method Overriding happens when a method in a subclass has the same name and \n",
    "#signature as a method in the superclass.\n",
    "#The subclass method is called when the method is invoked on an instance of the subclass, \n",
    "#instead of the superclass method.\n",
    "#Polymorphism allows the overridden method to be called on objects of the subclass \n",
    "#even when they are referred to by the superclass type."
   ]
  },
  {
   "cell_type": "code",
   "execution_count": 67,
   "id": "1b4f0266-f805-480c-a6f1-f81ebf3180cb",
   "metadata": {},
   "outputs": [],
   "source": [
    "#question 13:- What is a property decorator in Python?\n",
    "#answer 13:-it allows method to be accessed as attribute\n",
    "#property decorators >> you are allowed to use class method as an attributes "
   ]
  },
  {
   "cell_type": "code",
   "execution_count": 69,
   "id": "1ef72fff-d3be-4b69-972c-38378e5f85d9",
   "metadata": {},
   "outputs": [],
   "source": [
    "#question 14:- Why is polymorphism important in OOP?\n",
    "#answer 14:- Polymorphism in OOP allows objects of different classes to be treated as instances \n",
    "#of a common superclass. It enables methods to be used interchangeably across different\n",
    "#types of objects, making code more flexible, reusable, and maintainable."
   ]
  },
  {
   "cell_type": "code",
   "execution_count": 71,
   "id": "77ef1e06-716a-43d8-bc8a-06810f761f72",
   "metadata": {},
   "outputs": [],
   "source": [
    "#question 15:- What is an abstract class in Python?\n",
    "#answer 15:-An abstract class defines methods that must be implemented by its subclasses, \n",
    "#providing a common interface while preventing direct instantiation of the class."
   ]
  },
  {
   "cell_type": "code",
   "execution_count": 73,
   "id": "40cb46a6-66b1-43db-846a-18d601f01a1e",
   "metadata": {},
   "outputs": [],
   "source": [
    "#question 16:- What are the advantages of OOP?\n",
    "#answer 16:-he advantages of OOP include modularity, reusability, maintainability, flexibility, \n",
    "#abstraction, security, better code organization, and easier debugging. OOP helps in building\n",
    "#scalable, modular, and more understandable software systems."
   ]
  },
  {
   "cell_type": "code",
   "execution_count": 75,
   "id": "272e224f-5f6d-48f4-9f51-f4442dc4dcf7",
   "metadata": {},
   "outputs": [],
   "source": [
    "#question 17:- What is the difference between a class variable and an instance variable?\n",
    "#answer 17:-The main difference between a class variable and an instance variable in Python lies \n",
    "#in where they are stored, how they are accessed, and what they represent:\n",
    "\n",
    "\n",
    "\n",
    "\n",
    "# Class Variable:\n",
    "#Shared among all instances of the class.\n",
    "#Defined within the class but outside any instance methods (usually in the class body).\n",
    "#Can be accessed using the class name or via an instance.\n",
    "#If you modify a class variable using an instance, it affects the class-level variable,\n",
    "#which can affect all instances.\n",
    "\n",
    "\n",
    "\n",
    "\n",
    "\n",
    "\n",
    "#Instance Variable:\n",
    "#Specific to each instance of the class.\n",
    "#Defined within the __init__ method (or other instance methods) using self.\n",
    "#Each instance has its own copy of the instance variables.\n",
    "#Cannot be accessed without an instance (i.e., using self)."
   ]
  },
  {
   "cell_type": "code",
   "execution_count": 77,
   "id": "05a36c7b-b8ee-4bcb-9815-9cd94baf6d18",
   "metadata": {},
   "outputs": [],
   "source": [
    "#question 18:-  What is multiple inheritance in Python?\n",
    "#answer 18:- Multiple inheritance in Python refers to the ability of a class to inherit \n",
    "#attributes and methods from more than one parent class. This allows a subclass to combine \n",
    "#the behavior and properties of multiple classes."
   ]
  },
  {
   "cell_type": "code",
   "execution_count": 79,
   "id": "989e6292-6256-4ee0-9479-71d256e3ffb9",
   "metadata": {},
   "outputs": [],
   "source": [
    "#question 19:-  Explain the purpose of ‘’__str__’ and ‘__repr__’ ‘ methods in Python?\n",
    "#answer 19:-  __str__ >>> will return a string represent of method \n",
    "#__repr__ >> meaning representation \n",
    "#it returns unambiguous string representation of the object as it that can be used to recreate the object"
   ]
  },
  {
   "cell_type": "code",
   "execution_count": 87,
   "id": "d7b3b451-9b41-4c21-a4ac-c69b2446e921",
   "metadata": {},
   "outputs": [],
   "source": [
    "#question 20:- What is the significance of the ‘super()’ function in Python?\n",
    "#answer 20:- The super() function is essential in Python for accessing methods from parent classes, \n",
    "#especially in inheritance scenarios. It simplifies code, supports multiple inheritance, and \n",
    "#improves maintainability by enabling the reuse of parent class functionality."
   ]
  },
  {
   "cell_type": "code",
   "execution_count": 81,
   "id": "0eeda6c2-aa06-4fd7-bff4-38383725de7b",
   "metadata": {},
   "outputs": [],
   "source": [
    "#question 21:- What is the significance of the __del__ method in Python?\n",
    "#answer 21:-The __del__ method in Python is useful for releasing resources and performing \n",
    "#cleanup tasks when an object is destroyed. "
   ]
  },
  {
   "cell_type": "code",
   "execution_count": 83,
   "id": "11093e1e-5a26-45e6-9441-e47f8c8ae746",
   "metadata": {},
   "outputs": [],
   "source": [
    "#question 22:-F What is the difference between @staticmethod and @classmethod in Python?\n",
    "#answer 22:-Use @staticmethod when the method does not need to access or modify class/instance \n",
    "#attributes but still belongs to the class logically.\n",
    "\n",
    "#Use @classmethod when the method needs to modify or interact with class-level data\n",
    "#(i.e., it needs access to the cls parameter)."
   ]
  },
  {
   "cell_type": "code",
   "execution_count": 85,
   "id": "81305d38-cf30-4f9d-b5f5-2ec8cd2077c3",
   "metadata": {},
   "outputs": [],
   "source": [
    "#question 23:- How does polymorphism work in Python with inheritance?\n",
    "#answer 23:-polymorphism with inheritance allows the same method name to have different\n",
    "#behaviors depending on the type of object, enhancing flexibility, code reusability, and maintainability."
   ]
  },
  {
   "cell_type": "code",
   "execution_count": 89,
   "id": "ecd78aa2-41a7-4c1b-84f6-7b8a7b79d612",
   "metadata": {},
   "outputs": [],
   "source": [
    "#question 24:- What is method chaining in Python OOP?\n",
    "#answer 24:-Method chaining is a powerful technique in Python OOP that enhances\n",
    "#code readability and allows for more compact, fluent, and expressive code. \n",
    "#It works by having each method return the object (self), enabling subsequent method calls on\n",
    "#the same object in a chained manner."
   ]
  },
  {
   "cell_type": "code",
   "execution_count": 91,
   "id": "bf2a220f-ded4-4d7e-8628-fa313b893fd0",
   "metadata": {},
   "outputs": [],
   "source": [
    "#question 25:-What is the purpose of the __call__ method in Python?\n",
    "#answer 25:-__call__ is special method that is called or invovked when you call\n",
    "#instance/object of the class as function"
   ]
  },
  {
   "cell_type": "code",
   "execution_count": null,
   "id": "ca4debbf-b650-4dff-9f27-2de4b28d66d0",
   "metadata": {},
   "outputs": [],
   "source": []
  },
  {
   "cell_type": "code",
   "execution_count": null,
   "id": "a9c05a1b-fc03-4a00-bd02-37707a1fd2b1",
   "metadata": {},
   "outputs": [],
   "source": []
  },
  {
   "cell_type": "code",
   "execution_count": null,
   "id": "77aeb793-b430-41d3-bc84-85e5ab823bda",
   "metadata": {},
   "outputs": [],
   "source": []
  },
  {
   "cell_type": "code",
   "execution_count": null,
   "id": "51efbfe9-95d5-4a66-8476-9d3bd4cf8091",
   "metadata": {},
   "outputs": [],
   "source": []
  },
  {
   "cell_type": "code",
   "execution_count": null,
   "id": "63e8e6c7-b281-4089-b8fb-ae931ced3e65",
   "metadata": {},
   "outputs": [],
   "source": []
  },
  {
   "cell_type": "code",
   "execution_count": null,
   "id": "1ab6f6d8-d4f5-4791-803e-8616f4723d34",
   "metadata": {},
   "outputs": [],
   "source": []
  },
  {
   "cell_type": "code",
   "execution_count": null,
   "id": "17c80475-ac69-4122-bd03-e781875d1168",
   "metadata": {},
   "outputs": [],
   "source": []
  },
  {
   "cell_type": "code",
   "execution_count": null,
   "id": "1076c222-ff4e-4194-b636-dac4625dcb84",
   "metadata": {},
   "outputs": [],
   "source": []
  },
  {
   "cell_type": "code",
   "execution_count": null,
   "id": "3e03fdf3-e5b8-401a-a3bd-b9cebb487dd8",
   "metadata": {},
   "outputs": [],
   "source": []
  },
  {
   "cell_type": "code",
   "execution_count": null,
   "id": "dc5411d9-32bc-4ac4-8c66-b4da45413965",
   "metadata": {},
   "outputs": [],
   "source": []
  },
  {
   "cell_type": "code",
   "execution_count": null,
   "id": "9fef564c-8939-4121-aa1b-7237b7b92976",
   "metadata": {},
   "outputs": [],
   "source": []
  },
  {
   "cell_type": "code",
   "execution_count": null,
   "id": "d94fbe22-ec22-4945-bfa3-3a4257019d1d",
   "metadata": {},
   "outputs": [],
   "source": []
  },
  {
   "cell_type": "markdown",
   "id": "8b3522b2-ccb6-4ed5-9843-f10727d8d18c",
   "metadata": {},
   "source": [
    "#practical questions"
   ]
  },
  {
   "cell_type": "code",
   "execution_count": 108,
   "id": "b24292c7-adc6-4745-97ff-a1f81d82cb61",
   "metadata": {},
   "outputs": [
    {
     "name": "stdout",
     "output_type": "stream",
     "text": [
      "bark!\n"
     ]
    }
   ],
   "source": [
    "#1. Create a parent class Animal with a method speak() that prints a generic message. Create a child class Dog\n",
    "# that overrides the speak() method to print \"Bark!\".\n",
    "\n",
    "\n",
    "\n",
    "#code \n",
    "\n",
    "\n",
    "class Animal:\n",
    "    def speak(self):\n",
    "        print(\"generic message\")\n",
    "class Dog(Animal):\n",
    "    def speak(self):\n",
    "        print(\"bark!\")\n",
    "\n",
    "child = Dog()\n",
    "child.speak()"
   ]
  },
  {
   "cell_type": "code",
   "execution_count": 112,
   "id": "85ac43af-a8c2-4d8e-8074-a12e22349c7b",
   "metadata": {},
   "outputs": [
    {
     "name": "stdout",
     "output_type": "stream",
     "text": [
      "Area of Circle: 78.53981633974483\n",
      "Area of Rectangle: 24\n"
     ]
    }
   ],
   "source": [
    "#2. Write a program to create an abstract class Shape with a method area(). Derive classes Circle and Rectangle\n",
    "#from it and implement the area() method in both.\n",
    "\n",
    "\n",
    "\n",
    "\n",
    "\n",
    "\n",
    "#code\n",
    "\n",
    "\n",
    "from abc import ABC, abstractmethod\n",
    "import math\n",
    "\n",
    "# Abstract class Shape\n",
    "class Shape(ABC):\n",
    "    @abstractmethod\n",
    "    def area(self):\n",
    "        pass\n",
    "\n",
    "# Circle class inheriting from Shape\n",
    "class Circle(Shape):\n",
    "    def __init__(self, radius):\n",
    "        self.radius = radius\n",
    "\n",
    "    def area(self):\n",
    "        # Area of the circle: π * r^2\n",
    "        return math.pi * (self.radius ** 2)\n",
    "\n",
    "# Rectangle class inheriting from Shape\n",
    "class Rectangle(Shape):\n",
    "    def __init__(self, length, width):\n",
    "        self.length = length\n",
    "        self.width = width\n",
    "\n",
    "    def area(self):\n",
    "        # Area of the rectangle: length * width\n",
    "        return self.length * self.width\n",
    "\n",
    "# Creating objects for Circle and Rectangle\n",
    "circle = Circle(5)\n",
    "rectangle = Rectangle(4, 6)\n",
    "\n",
    "# Printing areas\n",
    "print(f\"Area of Circle: {circle.area()}\")  \n",
    "print(f\"Area of Rectangle: {rectangle.area()}\")  \n"
   ]
  },
  {
   "cell_type": "code",
   "execution_count": 114,
   "id": "bfc3ab1a-e399-4336-818a-d225ebbbb232",
   "metadata": {},
   "outputs": [
    {
     "name": "stdout",
     "output_type": "stream",
     "text": [
      "This is a general vehicle.\n",
      "This is a Toyota Corolla car of type sedan.\n",
      "The Tesla Model S electric car has a 100 kWh battery.\n"
     ]
    }
   ],
   "source": [
    "#3. Implement a multi-level inheritance scenario where a class Vehicle has an attribute type. Derive a class Car\n",
    "#and further derive a class ElectricCar that adds a battery attribute.\n",
    "\n",
    "\n",
    "\n",
    "#code \n",
    "\n",
    "\n",
    "\n",
    "# Base class Vehicle\n",
    "class Vehicle:\n",
    "    def __init__(self, type):\n",
    "        self.type = type  # Attribute for type of vehicle\n",
    "\n",
    "    def display_type(self):\n",
    "        print(f\"This is a {self.type} vehicle.\")\n",
    "\n",
    "# Derived class Car inheriting from Vehicle\n",
    "class Car(Vehicle):\n",
    "    def __init__(self, type, model):\n",
    "        super().__init__(type)  # Call the parent class (Vehicle) constructor\n",
    "        self.model = model  # Additional attribute specific to Car\n",
    "\n",
    "    def display_info(self):\n",
    "        print(f\"This is a {self.model} car of type {self.type}.\")\n",
    "\n",
    "# Further derived class ElectricCar inheriting from Car\n",
    "class ElectricCar(Car):\n",
    "    def __init__(self, type, model, battery):\n",
    "        super().__init__(type, model)  # Call the parent class (Car) constructor\n",
    "        self.battery = battery  # Additional attribute specific to ElectricCar\n",
    "\n",
    "    def display_battery(self):\n",
    "        print(f\"The {self.model} electric car has a {self.battery} kWh battery.\")\n",
    "\n",
    "# Create instances of each class\n",
    "vehicle = Vehicle(\"general\")\n",
    "car = Car(\"sedan\", \"Toyota Corolla\")\n",
    "electric_car = ElectricCar(\"electric\", \"Tesla Model S\", 100)\n",
    "\n",
    "# Displaying the information\n",
    "vehicle.display_type()  \n",
    "car.display_info()  \n",
    "electric_car.display_battery()  \n"
   ]
  },
  {
   "cell_type": "code",
   "execution_count": 116,
   "id": "77591378-a6a7-4d88-b594-72931028f20a",
   "metadata": {},
   "outputs": [
    {
     "name": "stdout",
     "output_type": "stream",
     "text": [
      "This is a general vehicle.\n",
      "This is a Toyota Corolla car of type sedan.\n",
      "The Tesla Model S electric car has a 100 kWh battery.\n"
     ]
    }
   ],
   "source": [
    "#4. Implement a multi-level inheritance scenario where a class Vehicle has an attribute type. Derive a class Car\n",
    "#and further derive a class ElectricCar that adds a battery attribute.\n",
    "\n",
    "\n",
    "\n",
    "#code \n",
    "\n",
    "\n",
    "\n",
    "# Base class Vehicle\n",
    "class Vehicle:\n",
    "    def __init__(self, type):\n",
    "        self.type = type  # Attribute for type of vehicle\n",
    "\n",
    "    def display_type(self):\n",
    "        print(f\"This is a {self.type} vehicle.\")\n",
    "\n",
    "# Derived class Car inheriting from Vehicle\n",
    "class Car(Vehicle):\n",
    "    def __init__(self, type, model):\n",
    "        super().__init__(type)  # Call the parent class (Vehicle) constructor\n",
    "        self.model = model  # Additional attribute specific to Car\n",
    "\n",
    "    def display_info(self):\n",
    "        print(f\"This is a {self.model} car of type {self.type}.\")\n",
    "\n",
    "# Further derived class ElectricCar inheriting from Car\n",
    "class ElectricCar(Car):\n",
    "    def __init__(self, type, model, battery):\n",
    "        super().__init__(type, model)  # Call the parent class (Car) constructor\n",
    "        self.battery = battery  # Additional attribute specific to ElectricCar\n",
    "\n",
    "    def display_battery(self):\n",
    "        print(f\"The {self.model} electric car has a {self.battery} kWh battery.\")\n",
    "\n",
    "# Create instances of each class\n",
    "vehicle = Vehicle(\"general\")\n",
    "car = Car(\"sedan\", \"Toyota Corolla\")\n",
    "electric_car = ElectricCar(\"electric\", \"Tesla Model S\", 100)\n",
    "\n",
    "# Displaying the information\n",
    "vehicle.display_type()  \n",
    "car.display_info()  \n",
    "electric_car.display_battery()  "
   ]
  },
  {
   "cell_type": "code",
   "execution_count": 120,
   "id": "71f246ca-ae6c-49f0-aa4a-bb1cdbccc0e0",
   "metadata": {},
   "outputs": [
    {
     "name": "stdout",
     "output_type": "stream",
     "text": [
      "Deposited: 500\n",
      "Withdrew: 300\n",
      "Insufficient balance or invalid withdrawal amount.\n",
      "Current balance: 1200\n"
     ]
    }
   ],
   "source": [
    "#5. Write a program to demonstrate encapsulation by creating a class BankAccount with private attributes\n",
    "#balance and methods to deposit, withdraw, and check balance.\n",
    "\n",
    "\n",
    "\n",
    "\n",
    "\n",
    "\n",
    "\n",
    "\n",
    "\n",
    "\n",
    "\n",
    "\n",
    "\n",
    "\n",
    "\n",
    "\n",
    "#code\n",
    "class BankAccount:\n",
    "    def __init__(self, initial_balance=0):\n",
    "        self.__balance = initial_balance  # Private attribute\n",
    "\n",
    "    # Public method to deposit money\n",
    "    def deposit(self, amount):\n",
    "        if amount > 0:\n",
    "            self.__balance += amount\n",
    "            print(f\"Deposited: {amount}\")\n",
    "        else:\n",
    "            print(\"Deposit amount must be greater than 0.\")\n",
    "\n",
    "    # Public method to withdraw money\n",
    "    def withdraw(self, amount):\n",
    "        if amount > 0 and amount <= self.__balance:\n",
    "            self.__balance -= amount\n",
    "            print(f\"Withdrew: {amount}\")\n",
    "        else:\n",
    "            print(\"Insufficient balance or invalid withdrawal amount.\")\n",
    "\n",
    "    # Public method to check the balance\n",
    "    def check_balance(self):\n",
    "        return self.__balance\n",
    "\n",
    "# Creating a BankAccount object\n",
    "account = BankAccount(1000)\n",
    "\n",
    "# Performing deposit, withdrawal, and balance check\n",
    "account.deposit(500)   # Deposits 500\n",
    "account.withdraw(300)  # Withdraws 300\n",
    "account.withdraw(1500) # Tries to withdraw more than available balance\n",
    "print(f\"Current balance: {account.check_balance()}\")  \n"
   ]
  },
  {
   "cell_type": "code",
   "execution_count": 122,
   "id": "d6f9b320-20db-4347-becc-aa51fe922778",
   "metadata": {},
   "outputs": [
    {
     "name": "stdout",
     "output_type": "stream",
     "text": [
      "Strumming the guitar\n",
      "Playing the piano\n"
     ]
    }
   ],
   "source": [
    "#6. Demonstrate runtime polymorphism using a method play() in a base class Instrument. Derive classes Guitar\n",
    "#and Piano that implement their own version of play().\n",
    "\n",
    "\n",
    "\n",
    "\n",
    "\n",
    "\n",
    "\n",
    "\n",
    "\n",
    "\n",
    "\n",
    "#code\n",
    "\n",
    "# Base class Instrument\n",
    "class Instrument:\n",
    "    def play(self):\n",
    "        print(\"Playing instrument\")\n",
    "\n",
    "# Derived class Guitar\n",
    "class Guitar(Instrument):\n",
    "    def play(self):\n",
    "        print(\"Strumming the guitar\")\n",
    "\n",
    "# Derived class Piano\n",
    "class Piano(Instrument):\n",
    "    def play(self):\n",
    "        print(\"Playing the piano\")\n",
    "\n",
    "# Function to demonstrate runtime polymorphism\n",
    "def demonstrate_play(instrument):\n",
    "    instrument.play()  # The appropriate play() method will be called at runtime\n",
    "\n",
    "# Create instances of Guitar and Piano\n",
    "guitar = Guitar()\n",
    "piano = Piano()\n",
    "\n",
    "# Demonstrating runtime polymorphism\n",
    "demonstrate_play(guitar)  \n",
    "demonstrate_play(piano)   \n"
   ]
  },
  {
   "cell_type": "code",
   "execution_count": 124,
   "id": "01678339-ea4a-4c87-bc25-3445aa43750c",
   "metadata": {},
   "outputs": [
    {
     "name": "stdout",
     "output_type": "stream",
     "text": [
      "Sum: 15\n",
      "Difference: 5\n"
     ]
    }
   ],
   "source": [
    "#7. Create a class MathOperations with a class method add_numbers() to add two numbers and a static\n",
    "#method subtract_numbers() to subtract two numbers\n",
    "\n",
    "\n",
    "\n",
    "#code\n",
    "\n",
    "\n",
    "\n",
    "\n",
    "\n",
    "class MathOperations:\n",
    "    # Class method to add two numbers\n",
    "    @classmethod\n",
    "    def add_numbers(cls, a, b):\n",
    "        return a + b\n",
    "\n",
    "    # Static method to subtract two numbers\n",
    "    @staticmethod\n",
    "    def subtract_numbers(a, b):\n",
    "        return a - b\n",
    "\n",
    "# Example usage:\n",
    "\n",
    "# Calling the class method\n",
    "sum_result = MathOperations.add_numbers(10, 5)\n",
    "print(f\"Sum: {sum_result}\")  # Output: Sum: 15\n",
    "\n",
    "# Calling the static method\n",
    "difference_result = MathOperations.subtract_numbers(10, 5)\n",
    "print(f\"Difference: {difference_result}\")  \n"
   ]
  },
  {
   "cell_type": "code",
   "execution_count": 126,
   "id": "843ad979-156f-4425-a61b-8ea33964027c",
   "metadata": {},
   "outputs": [
    {
     "name": "stdout",
     "output_type": "stream",
     "text": [
      "Total number of persons created: 3\n"
     ]
    }
   ],
   "source": [
    "#8. Implement a class Person with a class method to count the total number of persons created.\n",
    "\n",
    "\n",
    "\n",
    "#code\n",
    "\n",
    "\n",
    "class Person:\n",
    "    # Class variable to keep track of the number of persons created\n",
    "    total_persons = 0\n",
    "\n",
    "    def __init__(self, name, age):\n",
    "        self.name = name\n",
    "        self.age = age\n",
    "        # Increment the total_persons count each time a new object is created\n",
    "        Person.total_persons += 1\n",
    "\n",
    "    # Class method to get the total number of persons created\n",
    "    @classmethod\n",
    "    def get_total_persons(cls):\n",
    "        return cls.total_persons\n",
    "\n",
    "# Example usage:\n",
    "person1 = Person(\"Alice\", 30)\n",
    "person2 = Person(\"Bob\", 25)\n",
    "person3 = Person(\"Charlie\", 35)\n",
    "\n",
    "# Calling the class method to get the total number of persons created\n",
    "print(f\"Total number of persons created: {Person.get_total_persons()}\")  \n"
   ]
  },
  {
   "cell_type": "code",
   "execution_count": 128,
   "id": "c64aa443-6978-4a29-8aef-fec9f377e8fa",
   "metadata": {},
   "outputs": [
    {
     "name": "stdout",
     "output_type": "stream",
     "text": [
      "3/4\n",
      "5/6\n"
     ]
    }
   ],
   "source": [
    "#9. Write a class Fraction with attributes numerator and denominator. Override the str method to display the\n",
    "#fraction as \"numerator/denominator\".\n",
    "\n",
    "\n",
    "\n",
    "\n",
    "\n",
    "\n",
    "\n",
    "\n",
    "\n",
    "\n",
    "#code\n",
    "\n",
    "\n",
    "\n",
    "class Fraction:\n",
    "    def __init__(self, numerator, denominator):\n",
    "        self.numerator = numerator\n",
    "        self.denominator = denominator\n",
    "\n",
    "    # Overriding the __str__() method to display the fraction as \"numerator/denominator\"\n",
    "    def __str__(self):\n",
    "        return f\"{self.numerator}/{self.denominator}\"\n",
    "\n",
    "# Example usage:\n",
    "fraction1 = Fraction(3, 4)\n",
    "fraction2 = Fraction(5, 6)\n",
    "\n",
    "# Printing the fractions\n",
    "print(fraction1)  \n",
    "print(fraction2)  \n"
   ]
  },
  {
   "cell_type": "code",
   "execution_count": 130,
   "id": "05d3801d-4c81-4800-a26b-a086cc4eb764",
   "metadata": {},
   "outputs": [
    {
     "name": "stdout",
     "output_type": "stream",
     "text": [
      "Vector 1: (3, 4)\n",
      "Vector 2: (1, 2)\n",
      "Result of addition: (4, 6)\n"
     ]
    }
   ],
   "source": [
    "#10. Demonstrate operator overloading by creating a class Vector and overriding the add method to add two\n",
    "#vectors.\n",
    "\n",
    "\n",
    "#code\n",
    "\n",
    "\n",
    "\n",
    "\n",
    "\n",
    "class Vector:\n",
    "    def __init__(self, x, y):\n",
    "        self.x = x  # x component of the vector\n",
    "        self.y = y  # y component of the vector\n",
    "\n",
    "    # Overloading the '+' operator to add two vectors\n",
    "    def __add__(self, other):\n",
    "        # Add corresponding components of two vectors\n",
    "        if isinstance(other, Vector):\n",
    "            return Vector(self.x + other.x, self.y + other.y)\n",
    "        return NotImplemented\n",
    "\n",
    "    # For displaying the vector in the form \"(x, y)\"\n",
    "    def __str__(self):\n",
    "        return f\"({self.x}, {self.y})\"\n",
    "\n",
    "# Example usage:\n",
    "vector1 = Vector(3, 4)\n",
    "vector2 = Vector(1, 2)\n",
    "\n",
    "# Adding two vectors using the overloaded '+' operator\n",
    "result_vector = vector1 + vector2\n",
    "\n",
    "# Displaying the result\n",
    "print(f\"Vector 1: {vector1}\")\n",
    "print(f\"Vector 2: {vector2}\")\n",
    "print(f\"Result of addition: {result_vector}\")  \n"
   ]
  },
  {
   "cell_type": "code",
   "execution_count": 132,
   "id": "72dbfea9-077c-4fcc-b484-b6361a7a2c46",
   "metadata": {},
   "outputs": [
    {
     "name": "stdout",
     "output_type": "stream",
     "text": [
      "Hello, my name is Alice and I am 30 years old.\n",
      "Hello, my name is Bob and I am 25 years old.\n"
     ]
    }
   ],
   "source": [
    "#11. Create a class Person with attributes name and age. Add a method greet() that prints \"Hello, my name is\n",
    "#{name} and I am {age} years old.\"\n",
    "\n",
    "\n",
    "#code \n",
    "\n",
    "\n",
    "\n",
    "class Person:\n",
    "    def __init__(self, name, age):\n",
    "        self.name = name  # Initialize the name attribute\n",
    "        self.age = age    # Initialize the age attribute\n",
    "\n",
    "    def greet(self):\n",
    "        # Print the greeting message using the name and age attributes\n",
    "        print(f\"Hello, my name is {self.name} and I am {self.age} years old.\")\n",
    "\n",
    "# Example usage:\n",
    "person1 = Person(\"Alice\", 30)\n",
    "person2 = Person(\"Bob\", 25)\n",
    "\n",
    "# Calling the greet method\n",
    "person1.greet()  \n",
    "person2.greet()  \n"
   ]
  },
  {
   "cell_type": "code",
   "execution_count": 134,
   "id": "4506b44b-f4f3-43c5-91d5-3f6d17adcdb1",
   "metadata": {},
   "outputs": [
    {
     "name": "stdout",
     "output_type": "stream",
     "text": [
      "Alice's average grade: 86.25\n",
      "Bob's average grade: 84.50\n"
     ]
    }
   ],
   "source": [
    "#12. Implement a class Student with attributes name and grades. Create a method average_grade() to compute\n",
    "#the average of the grades\n",
    "\n",
    "\n",
    "#code \n",
    "\n",
    "\n",
    "class Student:\n",
    "    def __init__(self, name, grades):\n",
    "        self.name = name        # Initialize the name attribute\n",
    "        self.grades = grades    # Initialize the grades attribute (list of grades)\n",
    "\n",
    "    def average_grade(self):\n",
    "        # Calculate the average of the grades\n",
    "        if self.grades:  # Check if the list of grades is not empty\n",
    "            return sum(self.grades) / len(self.grades)\n",
    "        else:\n",
    "            return 0  # Return 0 if there are no grades\n",
    "\n",
    "# Example usage:\n",
    "student1 = Student(\"Alice\", [85, 90, 78, 92])\n",
    "student2 = Student(\"Bob\", [75, 80, 88, 95])\n",
    "\n",
    "# Calling the average_grade method to compute the average grade for each student\n",
    "print(f\"{student1.name}'s average grade: {student1.average_grade():.2f}\")  \n",
    "print(f\"{student2.name}'s average grade: {student2.average_grade():.2f}\")  "
   ]
  },
  {
   "cell_type": "code",
   "execution_count": 136,
   "id": "f0278f1c-6943-4876-a19e-33a881f44cff",
   "metadata": {},
   "outputs": [
    {
     "name": "stdout",
     "output_type": "stream",
     "text": [
      "Area of Rectangle 1: 50\n",
      "Area of Rectangle 2: 21\n"
     ]
    }
   ],
   "source": [
    "#13. Create a class Rectangle with methods set_dimensions() to set the dimensions and area() to calculate the\n",
    "#area.\n",
    "\n",
    "\n",
    "\n",
    "#code\n",
    "\n",
    "\n",
    "\n",
    "class Rectangle:\n",
    "    def __init__(self):\n",
    "        self.length = 0  # Initialize length to 0\n",
    "        self.width = 0   # Initialize width to 0\n",
    "\n",
    "    # Method to set the dimensions of the rectangle\n",
    "    def set_dimensions(self, length, width):\n",
    "        self.length = length\n",
    "        self.width = width\n",
    "\n",
    "    # Method to calculate the area of the rectangle\n",
    "    def area(self):\n",
    "        return self.length * self.width\n",
    "\n",
    "# Example usage:\n",
    "rect1 = Rectangle()\n",
    "rect2 = Rectangle()\n",
    "\n",
    "# Set dimensions for rect1 and rect2\n",
    "rect1.set_dimensions(5, 10)\n",
    "rect2.set_dimensions(7, 3)\n",
    "\n",
    "# Calculate and print the area for both rectangles\n",
    "print(f\"Area of Rectangle 1: {rect1.area()}\")  \n",
    "print(f\"Area of Rectangle 2: {rect2.area()}\")  \n"
   ]
  },
  {
   "cell_type": "code",
   "execution_count": 138,
   "id": "e98268eb-77e0-42ef-b83b-7a264875b512",
   "metadata": {},
   "outputs": [
    {
     "name": "stdout",
     "output_type": "stream",
     "text": [
      "John's Salary: $800\n",
      "Sarah's Salary: $2200\n"
     ]
    }
   ],
   "source": [
    "#14. Create a class Employee with a method calculate_salary() that computes the salary based on hours worked\n",
    "#and hourly rate. Create a derived class Manager that adds a bonus to the salary.\n",
    "\n",
    "\n",
    "#code\n",
    "\n",
    "\n",
    "\n",
    "class Employee:\n",
    "    def __init__(self, name, hours_worked, hourly_rate):\n",
    "        self.name = name\n",
    "        self.hours_worked = hours_worked\n",
    "        self.hourly_rate = hourly_rate\n",
    "\n",
    "    def calculate_salary(self):\n",
    "        # Calculate salary based on hours worked and hourly rate\n",
    "        return self.hours_worked * self.hourly_rate\n",
    "\n",
    "class Manager(Employee):\n",
    "    def __init__(self, name, hours_worked, hourly_rate, bonus):\n",
    "        # Initialize the base class (Employee) with name, hours worked, and hourly rate\n",
    "        super().__init__(name, hours_worked, hourly_rate)\n",
    "        self.bonus = bonus  # Additional attribute for bonus\n",
    "\n",
    "    def calculate_salary(self):\n",
    "        # Call the base class method to calculate the salary and add the bonus\n",
    "        base_salary = super().calculate_salary()\n",
    "        return base_salary + self.bonus\n",
    "\n",
    "# Example usage:\n",
    "\n",
    "# Create an Employee object\n",
    "employee = Employee(\"John\", 40, 20)  # 40 hours worked at 20 per hour\n",
    "\n",
    "# Create a Manager object\n",
    "manager = Manager(\"Sarah\", 40, 30, 1000)  # 40 hours worked at 30 per hour + 1000 bonus\n",
    "\n",
    "# Calculate and print salaries\n",
    "print(f\"{employee.name}'s Salary: ${employee.calculate_salary()}\") \n",
    "print(f\"{manager.name}'s Salary: ${manager.calculate_salary()}\")    \n"
   ]
  },
  {
   "cell_type": "code",
   "execution_count": 140,
   "id": "446ebceb-da34-47f0-ad42-41f3b9c42eeb",
   "metadata": {},
   "outputs": [
    {
     "name": "stdout",
     "output_type": "stream",
     "text": [
      "Total price of Laptop: $3000\n",
      "Total price of Phone: $2500\n"
     ]
    }
   ],
   "source": [
    "#15. Create a class Product with attributes name, price, and quantity. Implement a method total_price() that\n",
    "#calculates the total price of the product.\n",
    "\n",
    "\n",
    "#code \n",
    "\n",
    "\n",
    "class Product:\n",
    "    def __init__(self, name, price, quantity):\n",
    "        self.name = name        # Initialize the name of the product\n",
    "        self.price = price      # Initialize the price of the product\n",
    "        self.quantity = quantity  # Initialize the quantity of the product\n",
    "\n",
    "    def total_price(self):\n",
    "        # Calculate the total price by multiplying price and quantity\n",
    "        return self.price * self.quantity\n",
    "\n",
    "# Example usage:\n",
    "product1 = Product(\"Laptop\", 1000, 3)\n",
    "product2 = Product(\"Phone\", 500, 5)\n",
    "\n",
    "# Calculate and print total price for each product\n",
    "print(f\"Total price of {product1.name}: ${product1.total_price()}\")  \n",
    "print(f\"Total price of {product2.name}: ${product2.total_price()}\")  "
   ]
  },
  {
   "cell_type": "code",
   "execution_count": 142,
   "id": "79554012-53ef-4966-9bb5-e536549eea83",
   "metadata": {},
   "outputs": [
    {
     "name": "stdout",
     "output_type": "stream",
     "text": [
      "Cow sound: Moo!\n",
      "Sheep sound: Baa!\n"
     ]
    }
   ],
   "source": [
    "#16. Create a class Animal with an abstract method sound(). Create two derived classes Cow and Sheep that\n",
    "#implement the sound() method.\n",
    "\n",
    "\n",
    "#code\n",
    "\n",
    "from abc import ABC, abstractmethod\n",
    "\n",
    "# Abstract class Animal\n",
    "class Animal(ABC):\n",
    "    @abstractmethod\n",
    "    def sound(self):\n",
    "        pass  # This method will be implemented by derived classes\n",
    "\n",
    "# Derived class Cow\n",
    "class Cow(Animal):\n",
    "    def sound(self):\n",
    "        return \"Moo!\"\n",
    "\n",
    "# Derived class Sheep\n",
    "class Sheep(Animal):\n",
    "    def sound(self):\n",
    "        return \"Baa!\"\n",
    "\n",
    "# Example usage:\n",
    "\n",
    "# Creating objects of Cow and Sheep\n",
    "cow = Cow()\n",
    "sheep = Sheep()\n",
    "\n",
    "# Calling the sound method for each animal\n",
    "print(f\"Cow sound: {cow.sound()}\")  \n",
    "print(f\"Sheep sound: {sheep.sound()}\")  \n"
   ]
  },
  {
   "cell_type": "code",
   "execution_count": 144,
   "id": "75a04707-d7b7-43bd-9393-6f7128f1a228",
   "metadata": {},
   "outputs": [
    {
     "name": "stdout",
     "output_type": "stream",
     "text": [
      "'To Kill a Mockingbird' by Harper Lee, published in 1960\n",
      "'1984' by George Orwell, published in 1949\n"
     ]
    }
   ],
   "source": [
    "#17. Create a class Book with attributes title, author, and year_published. Add a method get_book_info() that\n",
    "#returns a formatted string with the book's details\n",
    "\n",
    "\n",
    "\n",
    "#code\n",
    "\n",
    "class Book:\n",
    "    def __init__(self, title, author, year_published):\n",
    "        self.title = title                # Initialize the title of the book\n",
    "        self.author = author              # Initialize the author of the book\n",
    "        self.year_published = year_published  # Initialize the year the book was published\n",
    "\n",
    "    def get_book_info(self):\n",
    "        # Return a formatted string with the book details\n",
    "        return f\"'{self.title}' by {self.author}, published in {self.year_published}\"\n",
    "\n",
    "# Example usage:\n",
    "book1 = Book(\"To Kill a Mockingbird\", \"Harper Lee\", 1960)\n",
    "book2 = Book(\"1984\", \"George Orwell\", 1949)\n",
    "\n",
    "# Get and print book information\n",
    "print(book1.get_book_info())  \n",
    "print(book2.get_book_info()) \n"
   ]
  },
  {
   "cell_type": "code",
   "execution_count": 148,
   "id": "ae7b35ce-a043-4b15-b522-f92f6a21682f",
   "metadata": {},
   "outputs": [
    {
     "name": "stdout",
     "output_type": "stream",
     "text": [
      "House located at 123 Elm Street is priced at $300000\n",
      "House located at 456 Maple Avenue is priced at $1500000, with 10 rooms\n"
     ]
    }
   ],
   "source": [
    "#18. Create a class House with attributes address and price. Create a derived class Mansion that adds an\n",
    "#attribute number_of_rooms\n",
    "\n",
    "\n",
    "\n",
    "#code\n",
    "\n",
    "\n",
    "# Base class House\n",
    "class House:\n",
    "    def __init__(self, address, price):\n",
    "        self.address = address  # Initialize address of the house\n",
    "        self.price = price      # Initialize price of the house\n",
    "\n",
    "    def get_info(self):\n",
    "        # Return a formatted string with house information\n",
    "        return f\"House located at {self.address} is priced at ${self.price}\"\n",
    "\n",
    "# Derived class Mansion that adds number_of_rooms\n",
    "class Mansion(House):\n",
    "    def __init__(self, address, price, number_of_rooms):\n",
    "        # Initialize the base class (House) with address and price\n",
    "        super().__init__(address, price)\n",
    "        self.number_of_rooms = number_of_rooms  # Additional attribute for number of rooms\n",
    "\n",
    "    def get_info(self):\n",
    "        # Call the base class get_info method and add information about rooms\n",
    "        house_info = super().get_info()\n",
    "        return f\"{house_info}, with {self.number_of_rooms} rooms\"\n",
    "\n",
    "# Example usage:\n",
    "\n",
    "# Create a House object\n",
    "house = House(\"123 Elm Street\", 300000)\n",
    "\n",
    "# Create a Mansion object\n",
    "mansion = Mansion(\"456 Maple Avenue\", 1500000, 10)\n",
    "\n",
    "# Get and print information about both house and mansion\n",
    "print(house.get_info())  \n",
    "print(mansion.get_info())  \n"
   ]
  },
  {
   "cell_type": "code",
   "execution_count": null,
   "id": "c2cc9b3e-46ea-45d7-80cf-b33aff7467ce",
   "metadata": {},
   "outputs": [],
   "source": []
  }
 ],
 "metadata": {
  "kernelspec": {
   "display_name": "Python 3 (ipykernel)",
   "language": "python",
   "name": "python3"
  },
  "language_info": {
   "codemirror_mode": {
    "name": "ipython",
    "version": 3
   },
   "file_extension": ".py",
   "mimetype": "text/x-python",
   "name": "python",
   "nbconvert_exporter": "python",
   "pygments_lexer": "ipython3",
   "version": "3.12.7"
  }
 },
 "nbformat": 4,
 "nbformat_minor": 5
}
