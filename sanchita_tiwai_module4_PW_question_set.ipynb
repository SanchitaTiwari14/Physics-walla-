{
 "cells": [
  {
   "cell_type": "code",
   "execution_count": 1,
   "id": "485fd7e4-4e2a-4b92-8a5b-f4952dfa8c7d",
   "metadata": {},
   "outputs": [],
   "source": [
    "#Theory Questions:"
   ]
  },
  {
   "cell_type": "code",
   "execution_count": 25,
   "id": "c86ef17a-3f40-4c17-9130-c2705e3a1a15",
   "metadata": {},
   "outputs": [
    {
     "name": "stdout",
     "output_type": "stream",
     "text": [
      "Hello, Sanchita!\n"
     ]
    }
   ],
   "source": [
    "#question1\n",
    "'''\n",
    "Question:-1. What is the difference between a function and a method in Python?\n",
    "\n",
    "Answer:-A function is a block of reusable code that is defined with the def keyword and can be called independently.\n",
    "Functions can be defined in any part of your program and do not depend on objects or classes.\n",
    "\n",
    "Definition: A function is defined using the def keyword followed by its name and parameters.\n",
    "Usage: Functions can be called from anywhere in the code, without needing to belong to an object.\n",
    "\n",
    "\n",
    "\n",
    "\n",
    "\n",
    "\n",
    "A method is a function that is associated with an object or a class. Methods are defined within a class, and they are bound to the object or class they belong to. You can only call a method through an instance of the class (or the class itself for class methods).\n",
    "\n",
    "Definition: A method is defined inside a class using the def keyword.\n",
    "Usage: Methods are called on an instance of the class (or the class itself for class methods).\n",
    "\n",
    "\n",
    "'''\n",
    "\n",
    "\n",
    "def greet(name):\n",
    "    return f\"Hello, {name}!\"\n",
    "\n",
    "print(greet(\"Sanchita\")) "
   ]
  },
  {
   "cell_type": "code",
   "execution_count": 29,
   "id": "ffa459dd-671f-4dcf-8719-7850a2dcb5f2",
   "metadata": {},
   "outputs": [
    {
     "name": "stdout",
     "output_type": "stream",
     "text": [
      "Hello, Sanchita. You are 25 years old.\n"
     ]
    }
   ],
   "source": [
    "#question2\n",
    "'''\n",
    "Question:-2. Explain the concept of function arguments and parameters in Python.\n",
    "\n",
    "\n",
    "\n",
    "Answer:-A parameter is a variable that is defined in the function definition. \n",
    "It acts as a placeholder for the value that will be passed into the function when it is called.\n",
    "\n",
    "Parameters are listed inside the parentheses () in the function definition.\n",
    "They define what kind of input the function expects.\n",
    "A function can have multiple parameters, or none at all.\n",
    "\n",
    "\n",
    "An argument is the actual value or data that is passed to a function when calling it. Arguments are assigned to the function's parameters when the function is called.\n",
    "\n",
    "Arguments are the values you pass to the function when you invoke it.\n",
    "Arguments can be constants, variables, or expressions.\n",
    "'''\n",
    "\n",
    "\n",
    "def greet(name, age):\n",
    "    return f\"Hello, {name}. You are {age} years old.\"\n",
    "\n",
    "print(greet(age=25, name=\"Sanchita\"))  # The order doesn't matter with keyword arguments\n"
   ]
  },
  {
   "cell_type": "code",
   "execution_count": 31,
   "id": "54549073-4e2c-415c-990a-8aacebb92483",
   "metadata": {},
   "outputs": [
    {
     "name": "stdout",
     "output_type": "stream",
     "text": [
      "Hello, Sanchita!\n",
      "Hello, Sanchita. You are 25 years old.\n",
      "Hello, Sanchita. You are 20 years old.\n",
      "Hello, Sanchita, Shubhi, Kitto!\n",
      "Hello, Sanchita. You are 30 years old.\n",
      "Hello, Shubhi. You are unknown years old.\n",
      "Hello, Shubhi!\n",
      "Hello, Sanchita!\n",
      "120\n"
     ]
    }
   ],
   "source": [
    "#question3\n",
    "'''\n",
    "Question:-3. What are the different ways to define and call a function in Python?\n",
    "Answer:-\n",
    "\n",
    "'''\n",
    "#Basic Function Definition and Call\n",
    "def greet(name):\n",
    "    return f\"Hello, {name}!\"\n",
    "print(greet(\"Sanchita\")) \n",
    "\n",
    "\n",
    "\n",
    "\n",
    "#Function with Default Arguments\n",
    "def greet(name, age=25):  # 'age' has a default value of 30\n",
    "    return f\"Hello, {name}. You are {age} years old.\"\n",
    "print(greet(\"Sanchita\"))      # Uses default value for age (25)\n",
    "print(greet(\"Sanchita\", 20))    # Provides a custom age (20)\n",
    "\n",
    "\n",
    "\n",
    "\n",
    "\n",
    "\n",
    "#Function with Variable-Length Arguments (*args)\n",
    "def greet(*names):  # *names will collect all positional arguments\n",
    "    return f\"Hello, {', '.join(names)}!\"\n",
    "print(greet(\"Sanchita\", \"Shubhi\", \"Kitto\"))  # Passing multiple arguments\n",
    "\n",
    "\n",
    "\n",
    "#Function with Variable-Length Keyword Arguments (**kwargs)\n",
    "def greet(**info):  # **info collects keyword arguments into a dictionary\n",
    "    return f\"Hello, {info.get('name')}. You are {info.get('age', 'unknown')} years old.\"\n",
    "print(greet(name=\"Sanchita\", age=30))      # Passing keyword arguments\n",
    "print(greet(name=\"Shubhi\"))                # Only passing 'name', default age is used\n",
    "\n",
    "\n",
    "\n",
    "#Lambda Functions (Anonymous Functions)\n",
    "greet = lambda name: f\"Hello, {name}!\"\n",
    "print(greet(\"Shubhi\"))\n",
    "\n",
    "\n",
    "#Functions in Python can be passed as arguments to other functions.\n",
    "#This is possible because functions are first-class objects in Python.\n",
    "def greet(name):\n",
    "    return f\"Hello, {name}!\"\n",
    "\n",
    "def execute_function(func, name):\n",
    "    return func(name)\n",
    "print(execute_function(greet, \"Sanchita\"))  # Passing the 'greet' function as an argument\n",
    "\n",
    "\n",
    "# Recursive Function Call\n",
    "def factorial(n):\n",
    "    if n == 0:\n",
    "        return 1\n",
    "    else:\n",
    "        return n * factorial(n - 1)  # Recursive call\n",
    "print(factorial(5))  # Calling the recursive function\n",
    "\n"
   ]
  },
  {
   "cell_type": "code",
   "execution_count": 33,
   "id": "4b521a15-8521-4011-96ec-62460f939bb9",
   "metadata": {},
   "outputs": [
    {
     "name": "stdout",
     "output_type": "stream",
     "text": [
      "8\n",
      "Positive number\n",
      "Negative number\n",
      "(10, 20)\n",
      "10 20\n",
      "5.0\n",
      "Error: Division by zero\n"
     ]
    }
   ],
   "source": [
    "#question4\n",
    "'''\n",
    "Question:-4. What is the purpose of the `return` statement in a Python function?\n",
    "Answer:-The return statement in a Python function serves an important purpose: \n",
    "it allows a function to send back a result to the caller and exit the function. Without the return statement,\n",
    "a function would execute its code but wouldn't provide any result to the part of the program that called it.\n",
    "Key Purposes of the return Statement:\n",
    "1.Returning a Value\n",
    "2.Ending Function Execution\n",
    "3.Returning Multiple Values\n",
    "4.Early Termination\n",
    "'''\n",
    "#1.Returning a Value\n",
    "def add(a, b):\n",
    "    return a + b\n",
    "\n",
    "result = add(5, 3)  \n",
    "print(result) \n",
    "\n",
    "\n",
    "#2.Ending Function Execution\n",
    "def check_number(n):\n",
    "    if n < 0:\n",
    "        return \"Negative number\"\n",
    "    elif n == 0:\n",
    "        return \"Zero\"\n",
    "    return \"Positive number\"\n",
    "\n",
    "print(check_number(5))   \n",
    "print(check_number(-3)) \n",
    "\n",
    "\n",
    "\n",
    "\n",
    "#3.Returning Multiple Values\n",
    "def get_coordinates():\n",
    "    x = 10\n",
    "    y = 20\n",
    "    return x, y  \n",
    "\n",
    "result = get_coordinates()\n",
    "print(result)  \n",
    "\n",
    "x, y = get_coordinates()  \n",
    "print(x, y)  \n",
    "\n",
    "\n",
    "#4.Early Termination\n",
    "def divide(a, b):\n",
    "    if b == 0:\n",
    "        return \"Error: Division by zero\"\n",
    "    return a / b\n",
    "\n",
    "print(divide(10, 2)) \n",
    "print(divide(10, 0))  \n",
    "\n"
   ]
  },
  {
   "cell_type": "code",
   "execution_count": 35,
   "id": "77e05e40-e959-4709-96dd-74f50263a65e",
   "metadata": {},
   "outputs": [
    {
     "name": "stdout",
     "output_type": "stream",
     "text": [
      "1\n",
      "2\n",
      "3\n",
      "4\n",
      "1\n",
      "2\n",
      "3\n",
      "4\n"
     ]
    }
   ],
   "source": [
    "#question5\n",
    "'''\n",
    "Question:-5. What are iterators in Python and how do they differ from iterables?\n",
    "Answer:-\n",
    "Iterable: An object that can be looped over (e.g., list, string, set). \n",
    "It has an __iter__() method that returns an iterator.\n",
    "\n",
    "\n",
    "Iterator: An object that actually performs the iteration and keeps track of the current position. \n",
    "It has __iter__() and __next__() methods. It is created from an iterable.\n",
    "\n",
    "Iterable:-An object that can be iterated over.__iter__() (returns an iterator).Does not maintain iteration state.\n",
    "Iterator:-An object that performs the iteration.__iter__() (returns self) and __next__() (returns the next item).\n",
    "Maintains state, tracks the current position.\n",
    "'''\n",
    "#Example of an Iterable:\n",
    "# List is an iterable\n",
    "my_list = [1, 2, 3, 4]\n",
    "\n",
    "# The iterable can be used directly in a for loop\n",
    "for item in my_list:\n",
    "    print(item)\n",
    "\n",
    "\n",
    "\n",
    "#Example of an Iterator:\n",
    "# Create an iterator from an iterable\n",
    "my_list = [1, 2, 3, 4]\n",
    "my_iter = iter(my_list)  # Convert the list to an iterator\n",
    "\n",
    "# Use the iterator to manually iterate\n",
    "print(next(my_iter))  \n",
    "print(next(my_iter))  \n",
    "print(next(my_iter))  \n",
    "print(next(my_iter))  \n",
    "# print(next(my_iter))  # Raises StopIteration when there are no more items\n"
   ]
  },
  {
   "cell_type": "code",
   "execution_count": 41,
   "id": "2686638f-cf76-43be-a901-86f1cb9f5d36",
   "metadata": {},
   "outputs": [
    {
     "name": "stdout",
     "output_type": "stream",
     "text": [
      "1\n",
      "2\n",
      "3\n",
      "4\n",
      "5\n",
      "0\n",
      "1\n",
      "4\n",
      "9\n",
      "16\n"
     ]
    }
   ],
   "source": [
    "#question6\n",
    "'''\n",
    "Question:-6. Explain the concept of generators in Python and how they are defined.\n",
    "Answer:-Generators produce values one at a time when requested, rather than computing all values at once.\n",
    "This \"lazy\" behavior saves memory, especially when working with large datasets.\n",
    "In Python, generators can be defined in two primary ways: using generator functions and generator expressions.\n",
    "'''\n",
    "\n",
    "#generators function\n",
    "def count_up_to(max):\n",
    "    count = 1\n",
    "    while count <= max:\n",
    "        yield count  # Return current value and pause the function\n",
    "        count += 1\n",
    "\n",
    "# Create a generator object\n",
    "counter = count_up_to(5)\n",
    "\n",
    "# Using the generator with next()\n",
    "print(next(counter))  # Output: 1\n",
    "print(next(counter))  # Output: 2\n",
    "print(next(counter))  # Output: 3\n",
    "print(next(counter))  # Output: 4\n",
    "print(next(counter))  # Output: 5\n",
    "# print(next(counter))  # Raises StopIteration\n",
    "\n",
    "\n",
    "\n",
    "\n",
    "\n",
    "\n",
    "#generators Expression\n",
    "\n",
    "# Generate squares of numbers from 0 to 4\n",
    "squares = (x**2 for x in range(5))\n",
    "\n",
    "# Use the generator expression in a for loop\n",
    "for square in squares:\n",
    "    print(square)\n",
    "\n"
   ]
  },
  {
   "cell_type": "code",
   "execution_count": 43,
   "id": "b42f2bb9-17a1-4596-a99d-0b899ce62ae6",
   "metadata": {},
   "outputs": [
    {
     "name": "stdout",
     "output_type": "stream",
     "text": [
      "1\n",
      "2\n",
      "3\n",
      "4\n",
      "5\n",
      "6\n",
      "7\n",
      "8\n",
      "9\n",
      "10\n"
     ]
    }
   ],
   "source": [
    "#question7\n",
    "'''\n",
    "Question:-7. What are the advantages of using generators over regular functions?\n",
    "Answer:-generators are a powerful tool in Python that enable efficient, on-the-fly computation of large or \n",
    "infinite sequences, making them especially useful in resource-constrained or high-performance scenarios.\n",
    "\n",
    "'''\n",
    "def infinite_sequence():\n",
    "    n = 1\n",
    "    while True:\n",
    "        yield n\n",
    "        n += 1\n",
    "\n",
    "# Using the generator for an infinite sequence\n",
    "gen = infinite_sequence()\n",
    "for _ in range(10):\n",
    "    print(next(gen))  # This will print 1, 2, 3, ..., 10\n"
   ]
  },
  {
   "cell_type": "code",
   "execution_count": 45,
   "id": "ea821612-3d1d-4429-9789-e305cdf76e1c",
   "metadata": {},
   "outputs": [
    {
     "name": "stdout",
     "output_type": "stream",
     "text": [
      "15\n"
     ]
    }
   ],
   "source": [
    "#question8\n",
    "'''\n",
    "Question:-8. What is a lambda function in Python and when is it typically used?\n",
    "Answer:-A lambda function is a small anonymous function that is defined using the lambda keyword.\n",
    "lambda functions are typically used for short, one-line operations where defining a full function would be overkill.\n",
    "For example, when using functions like map(), filter(), or sorted(), \n",
    "a lambda function can be used to define the behavior in a concise manner.\n",
    "\n",
    "'''\n",
    "\n",
    "add_ten = lambda x: x + 10\n",
    "print(add_ten(5))  "
   ]
  },
  {
   "cell_type": "code",
   "execution_count": 47,
   "id": "57ddc0ca-55ee-43f1-a653-11b52f5948b2",
   "metadata": {},
   "outputs": [
    {
     "name": "stdout",
     "output_type": "stream",
     "text": [
      "['Odd', 'Even', 'Odd', 'Even', 'Odd', 'Even', 'Odd', 'Even', 'Odd']\n"
     ]
    }
   ],
   "source": [
    "#question9\n",
    "'''\n",
    "Question:-9. Explain the purpose and usage of the `map()` function in Python.\n",
    "Answer:-The map() function in Python is used for applying a function to every item in an iterable \n",
    "(such as a list, tuple, or other iterable types) and returning a new iterable \n",
    "(specifically a map object, which is an iterator). This function is useful for transforming data \n",
    "without the need for an explicit loop.\n",
    "'''\n",
    "# List of numbers\n",
    "numbers = [1, 2, 3, 4, 5, 6, 7, 8, 9]\n",
    "\n",
    "# Use lambda to check if a number is even, otherwise return 'Odd'\n",
    "result = map(lambda x: \"Even\" if x % 2 == 0 else \"Odd\", numbers)\n",
    "\n",
    "# Convert map object to list\n",
    "print(list(result))  \n"
   ]
  },
  {
   "cell_type": "code",
   "execution_count": 49,
   "id": "dff44896-ba10-4b81-8d0a-f4149ffc8e19",
   "metadata": {},
   "outputs": [
    {
     "name": "stdout",
     "output_type": "stream",
     "text": [
      "[1, 4, 9, 16]\n",
      "10\n",
      "[2, 4, 6]\n"
     ]
    }
   ],
   "source": [
    "#question10\n",
    "'''\n",
    "Question:-10. What is the difference between `map()`, `reduce()`, and `filter()` functions in Python?\n",
    "Answer:-In Python, map(), reduce(), and filter() are higher-order functions that\n",
    "allow you to apply a function to iterables in various ways. \n",
    "\n",
    "\n",
    "The map() function applies a given function to every item in an iterable (like a list, tuple, etc.)\n",
    "and returns an iterator with the results of applying the function to each item.\n",
    "\n",
    "\n",
    "\n",
    "\n",
    "The reduce() function, found in the functools module, is used to apply a function to reduce an iterable \n",
    "to a single cumulative value. It reduces the iterable by iteratively applying the function to pairs \n",
    "of items in the iterable.\n",
    "\n",
    "\n",
    "\n",
    "\n",
    "\n",
    "\n",
    "\n",
    "\n",
    "\n",
    "\n",
    "\n",
    "\n",
    "\n",
    "The filter() function is used to filter the elements of an iterable by applying a function that returns\n",
    "a Boolean value (True or False). Only the elements for which the function returns \n",
    "True will be included in the resulting iterable.\n",
    "'''\n",
    "\n",
    "\n",
    "#map example\n",
    "numbers = [1, 2, 3, 4]\n",
    "squared_numbers = map(lambda x: x**2, numbers)\n",
    "print(list(squared_numbers)) \n",
    "\n",
    "\n",
    "\n",
    "\n",
    "\n",
    "\n",
    "\n",
    "\n",
    "\n",
    "\n",
    "\n",
    "#reduce example\n",
    "from functools import reduce\n",
    "\n",
    "numbers = [1, 2, 3, 4]\n",
    "result = reduce(lambda x, y: x + y, numbers)\n",
    "print(result)  \n",
    "\n",
    "\n",
    "\n",
    "\n",
    "\n",
    "\n",
    "\n",
    "\n",
    "\n",
    "\n",
    "\n",
    "\n",
    "\n",
    "\n",
    "\n",
    "\n",
    "#filter example\n",
    "numbers = [1, 2, 3, 4, 5, 6]\n",
    "even_numbers = filter(lambda x: x % 2 == 0, numbers)\n",
    "print(list(even_numbers))  \n"
   ]
  },
  {
   "cell_type": "code",
   "execution_count": 51,
   "id": "f8af8665-fb14-4be1-878e-9569518e68e7",
   "metadata": {},
   "outputs": [
    {
     "data": {
      "text/plain": [
       "'\\nQuestion:-11. Using pen & Paper write the internal mechanism for sum operation using  reduce function on this given\\nlist:[47,11,42,13]; \\nAnswer:-\\nreduce(lambda x, y: x + y, [47, 11, 42, 13])\\n\\nStep 1: 47 + 11 = 58\\nStep 2: 58 + 42 = 100\\nStep 3: 100 + 13 = 113\\nResult: 113\\n'"
      ]
     },
     "execution_count": 51,
     "metadata": {},
     "output_type": "execute_result"
    }
   ],
   "source": [
    "#question11\n",
    "'''\n",
    "Question:-11. Using pen & Paper write the internal mechanism for sum operation using  reduce function on this given\n",
    "list:[47,11,42,13]; \n",
    "Answer:-\n",
    "reduce(lambda x, y: x + y, [47, 11, 42, 13])\n",
    "\n",
    "Step 1: 47 + 11 = 58\n",
    "Step 2: 58 + 42 = 100\n",
    "Step 3: 100 + 13 = 113\n",
    "Result: 113\n",
    "'''\n",
    "\n",
    "\n",
    "\n",
    "\n",
    "# IMAGE IS IN PDF \n",
    "\n",
    "\n",
    "\n"
   ]
  },
  {
   "cell_type": "markdown",
   "id": "de5c4082-822f-4261-9216-b0bac0e094da",
   "metadata": {},
   "source": [
    "\n"
   ]
  },
  {
   "cell_type": "code",
   "execution_count": null,
   "id": "e3410f57-4cfb-4835-86c3-0a0dcf3b1e82",
   "metadata": {},
   "outputs": [],
   "source": []
  },
  {
   "cell_type": "code",
   "execution_count": null,
   "id": "d56eb60c-6fac-4de3-a927-5e1735f36288",
   "metadata": {},
   "outputs": [],
   "source": []
  },
  {
   "cell_type": "code",
   "execution_count": null,
   "id": "3982fe4a-f204-4932-afe8-8e5e01ff3e51",
   "metadata": {},
   "outputs": [],
   "source": []
  },
  {
   "cell_type": "code",
   "execution_count": null,
   "id": "5c72da29-0c89-44dd-a6e6-3b81635fd7c2",
   "metadata": {},
   "outputs": [],
   "source": []
  },
  {
   "cell_type": "code",
   "execution_count": null,
   "id": "e72779c5-cb2f-4951-95d1-64202fa43372",
   "metadata": {},
   "outputs": [],
   "source": []
  },
  {
   "cell_type": "code",
   "execution_count": null,
   "id": "a363f54a-a148-4fdd-8f34-25082b3f91e4",
   "metadata": {},
   "outputs": [],
   "source": []
  },
  {
   "cell_type": "code",
   "execution_count": null,
   "id": "a51124e7-8928-420c-a3b0-4efa19ec00e9",
   "metadata": {},
   "outputs": [],
   "source": []
  },
  {
   "cell_type": "code",
   "execution_count": null,
   "id": "2c5e91a3-256f-41e9-8bac-d449b237e8e2",
   "metadata": {},
   "outputs": [],
   "source": []
  },
  {
   "cell_type": "code",
   "execution_count": 62,
   "id": "365f35e4-5d5d-40f8-a35e-001b03b268aa",
   "metadata": {},
   "outputs": [],
   "source": [
    "#Practical Questions:\n"
   ]
  },
  {
   "cell_type": "code",
   "execution_count": 64,
   "id": "604a52ef-eb31-49f6-8946-8bf77e8c4504",
   "metadata": {},
   "outputs": [
    {
     "name": "stdout",
     "output_type": "stream",
     "text": [
      "The sum of even numbers is: 70\n"
     ]
    }
   ],
   "source": [
    "#1. Write a Python function that takes a list of numbers as input and returns the sum of all even numbers in\n",
    "#the list.\n",
    "\n",
    "\n",
    "def sum_even_numbers(numbers):\n",
    "    # Using list comprehension to filter even numbers and then summing them\n",
    "    return sum(num for num in numbers if num % 2 == 0)\n",
    "\n",
    "\n",
    "numbers = [47, 11, 42, 13, 20, 8]\n",
    "result = sum_even_numbers(numbers)\n",
    "print(f\"The sum of even numbers is: {result}\")\n",
    "\n"
   ]
  },
  {
   "cell_type": "code",
   "execution_count": 68,
   "id": "a4989dff-4272-47c5-9e03-fdff2e24caa2",
   "metadata": {},
   "outputs": [
    {
     "name": "stdout",
     "output_type": "stream",
     "text": [
      "olleH\n"
     ]
    }
   ],
   "source": [
    "#2. Create a Python function that accepts a string and returns the reverse of that string.\n",
    "def reverse_string(input_string):\n",
    "    return input_string[::-1]\n",
    "\n",
    "\n",
    "string = \"Hello\"\n",
    "print(reverse_string(string))  \n"
   ]
  },
  {
   "cell_type": "code",
   "execution_count": 70,
   "id": "64dbfe72-177a-49a1-9c83-de43243137a8",
   "metadata": {},
   "outputs": [
    {
     "name": "stdout",
     "output_type": "stream",
     "text": [
      "[1, 4, 9, 16, 25]\n"
     ]
    }
   ],
   "source": [
    "#3. Implement a Python function that takes a list of integers and returns a new list containing the squares of\n",
    "#each number.\n",
    "def square_numbers(numbers):\n",
    "    return [num ** 2 for num in numbers]\n",
    "\n",
    "\n",
    "numbers = [1, 2, 3, 4, 5]\n",
    "squared_numbers = square_numbers(numbers)\n",
    "print(squared_numbers)  "
   ]
  },
  {
   "cell_type": "code",
   "execution_count": 72,
   "id": "cf0e1024-98f4-4e86-96b2-60d99b238525",
   "metadata": {},
   "outputs": [
    {
     "name": "stdout",
     "output_type": "stream",
     "text": [
      "2 is a prime number.\n",
      "3 is a prime number.\n",
      "5 is a prime number.\n",
      "7 is a prime number.\n",
      "11 is a prime number.\n",
      "13 is a prime number.\n",
      "17 is a prime number.\n",
      "19 is a prime number.\n",
      "23 is a prime number.\n",
      "29 is a prime number.\n",
      "31 is a prime number.\n",
      "37 is a prime number.\n",
      "41 is a prime number.\n",
      "43 is a prime number.\n",
      "47 is a prime number.\n",
      "53 is a prime number.\n",
      "59 is a prime number.\n",
      "61 is a prime number.\n",
      "67 is a prime number.\n",
      "71 is a prime number.\n",
      "73 is a prime number.\n",
      "79 is a prime number.\n",
      "83 is a prime number.\n",
      "89 is a prime number.\n",
      "97 is a prime number.\n",
      "101 is a prime number.\n",
      "103 is a prime number.\n",
      "107 is a prime number.\n",
      "109 is a prime number.\n",
      "113 is a prime number.\n",
      "127 is a prime number.\n",
      "131 is a prime number.\n",
      "137 is a prime number.\n",
      "139 is a prime number.\n",
      "149 is a prime number.\n",
      "151 is a prime number.\n",
      "157 is a prime number.\n",
      "163 is a prime number.\n",
      "167 is a prime number.\n",
      "173 is a prime number.\n",
      "179 is a prime number.\n",
      "181 is a prime number.\n",
      "191 is a prime number.\n",
      "193 is a prime number.\n",
      "197 is a prime number.\n",
      "199 is a prime number.\n"
     ]
    }
   ],
   "source": [
    "#4. Write a Python function that checks if a given number is prime or not from 1 to 200.\n",
    "def is_prime(number):\n",
    "    if number < 2:\n",
    "        return False\n",
    "    for i in range(2, number):\n",
    "        if number % i == 0:\n",
    "            return False\n",
    "    return True\n",
    "\n",
    "\n",
    "for num in range(1, 201):\n",
    "    if is_prime(num):\n",
    "        print(f\"{num} is a prime number.\")\n"
   ]
  },
  {
   "cell_type": "code",
   "execution_count": 74,
   "id": "015b0b86-db71-4371-9d7e-8964a6f75aa9",
   "metadata": {},
   "outputs": [
    {
     "name": "stdout",
     "output_type": "stream",
     "text": [
      "1\n",
      "1\n",
      "2\n",
      "3\n",
      "5\n",
      "8\n",
      "13\n",
      "21\n",
      "34\n",
      "55\n"
     ]
    }
   ],
   "source": [
    "#5. Create an iterator class in Python that generates the Fibonacci sequence up to a specified number of\n",
    "#terms.\n",
    "class FibonacciIterator:\n",
    "    def __init__(self, n):\n",
    "        self.n = n\n",
    "        self.a, self.b = 0, 1\n",
    "\n",
    "    def __iter__(self):\n",
    "        return self\n",
    "\n",
    "    def __next__(self):\n",
    "        if self.n <= 0:\n",
    "            raise StopIteration\n",
    "        self.n -= 1\n",
    "        self.a, self.b = self.b, self.a + self.b\n",
    "        return self.a\n",
    "\n",
    "# Example usage:\n",
    "fibonacci = FibonacciIterator(10)\n",
    "\n",
    "for num in fibonacci:\n",
    "    print(num)\n"
   ]
  },
  {
   "cell_type": "code",
   "execution_count": 76,
   "id": "e1d9232a-3972-45ba-bf08-d7b43b1e4aee",
   "metadata": {},
   "outputs": [
    {
     "name": "stdout",
     "output_type": "stream",
     "text": [
      "1\n",
      "2\n",
      "4\n",
      "8\n",
      "16\n",
      "32\n"
     ]
    }
   ],
   "source": [
    "#6. Write a generator function in Python that yields the powers of 2 up to a given exponent.\n",
    "def powers_of_2(exponent):\n",
    "    for i in range(exponent + 1):\n",
    "        yield 2 ** i\n",
    "\n",
    "\n",
    "for power in powers_of_2(5):\n",
    "    print(power)\n"
   ]
  },
  {
   "cell_type": "code",
   "execution_count": 78,
   "id": "b62bdc9c-a0c1-409c-9b2d-4aacbf98022d",
   "metadata": {},
   "outputs": [
    {
     "name": "stdout",
     "output_type": "stream",
     "text": [
      "Hello, World!\n",
      "This is a test.\n",
      "Python is fun!\n"
     ]
    }
   ],
   "source": [
    "#7. Implement a generator function that reads a file line by line and yields each line as a string.\n",
    "def read_lines_from_list(lines):\n",
    "    for line in lines:\n",
    "        yield line\n",
    "\n",
    "\n",
    "lines = [\n",
    "    \"Hello, World!\",\n",
    "    \"This is a test.\",\n",
    "    \"Python is fun!\"\n",
    "]\n",
    "\n",
    "for line in read_lines_from_list(lines):\n",
    "    print(line)\n"
   ]
  },
  {
   "cell_type": "code",
   "execution_count": 80,
   "id": "f13e0ca8-de8d-412f-9623-c2b4465fa0bc",
   "metadata": {},
   "outputs": [
    {
     "name": "stdout",
     "output_type": "stream",
     "text": [
      "[(4, 1), (2, 2), (1, 3), (5, 4)]\n"
     ]
    }
   ],
   "source": [
    "#8. Use a lambda function in Python to sort a list of tuples based on the second element of each tuple.\n",
    "# List of tuples\n",
    "tuples = [(1, 3), (4, 1), (2, 2), (5, 4)]\n",
    "\n",
    "# Sort the list using lambda function to sort by the second element\n",
    "sorted_tuples = sorted(tuples, key=lambda x: x[1])\n",
    "\n",
    "# Print the sorted list\n",
    "print(sorted_tuples)\n"
   ]
  },
  {
   "cell_type": "code",
   "execution_count": 82,
   "id": "0bdb0ce4-da0b-41a8-a04f-73de53f9521b",
   "metadata": {},
   "outputs": [
    {
     "name": "stdout",
     "output_type": "stream",
     "text": [
      "[32.0, 68.0, 86.0, 104.0, 212.0]\n"
     ]
    }
   ],
   "source": [
    "#9. Write a Python program that uses `map()` to convert a list of temperatures from Celsius to Fahrenheit.\n",
    "# List of temperatures in Celsius\n",
    "celsius_temperatures = [0, 20, 30, 40, 100]\n",
    "\n",
    "# Function to convert Celsius to Fahrenheit\n",
    "def celsius_to_fahrenheit(celsius):\n",
    "    return (celsius * 9/5) + 32\n",
    "\n",
    "fahrenheit_temperatures = list(map(celsius_to_fahrenheit, celsius_temperatures))\n",
    "\n",
    "\n",
    "print(fahrenheit_temperatures)\n"
   ]
  },
  {
   "cell_type": "code",
   "execution_count": 86,
   "id": "640b8ab7-665b-4fdf-99e3-fe5ca207791f",
   "metadata": {},
   "outputs": [
    {
     "name": "stdout",
     "output_type": "stream",
     "text": [
      "String without vowels:  smpl\n"
     ]
    }
   ],
   "source": [
    "#10. Create a Python program that uses `filter()` to remove all the vowels from a given string.\n",
    "a = list(\"sample\")\n",
    "\n",
    "# Function to check if the character is not a vowel\n",
    "def vowel(x):\n",
    "    v = ('a', 'e', 'i', 'o', 'u')\n",
    "    return x not in v  # Return True for non-vowels\n",
    "\n",
    "# Use filter() to get the characters that are not vowels\n",
    "b = list(filter(vowel, a))\n",
    "\n",
    "# Print the string without vowels\n",
    "print(\"String without vowels: \", ''.join(b))\n"
   ]
  },
  {
   "cell_type": "code",
   "execution_count": 88,
   "id": "3e04c78b-1281-411e-9a6b-535a59c4e955",
   "metadata": {},
   "outputs": [
    {
     "name": "stdout",
     "output_type": "stream",
     "text": [
      "[(34587, 163.8), (98762, 284.0), (77226, 108.85000000000001), (88112, 84.97)]\n"
     ]
    }
   ],
   "source": [
    "#11) Imagine an accounting routine used in a book shop. It works on a list with sublists, which look like this:\n",
    "\n",
    "# List of orders with order number, book title and author, quantity, and price per item\n",
    "orders = [\n",
    "    [34587, \"learning python, mark lutz\", 4, 40.95],\n",
    "    [98762, \"programming python, mark lutz\", 5, 56.80],\n",
    "    [77226, \"head first python, paul barry\", 3, 32.95],\n",
    "    [88112, \"einfuhrung in python3, bernd klein\", 3, 24.99]\n",
    "]\n",
    "\n",
    "# Use map() with lambda to calculate the total price for each order\n",
    "order_totals = list(map(lambda order: (\n",
    "    order[0],  # order number\n",
    "    (order[2] * order[3]) + 10 if order[2] * order[3] < 100 else order[2] * order[3]  \n",
    "    # calculate total price with the 10€ increase if needed\n",
    "), orders))\n",
    "\n",
    "# Print the resulting list of tuples (order number, total price)\n",
    "print(order_totals)\n"
   ]
  },
  {
   "cell_type": "code",
   "execution_count": null,
   "id": "8035d45a-9704-4523-bda5-e162c47b8452",
   "metadata": {},
   "outputs": [],
   "source": []
  }
 ],
 "metadata": {
  "kernelspec": {
   "display_name": "Python 3 (ipykernel)",
   "language": "python",
   "name": "python3"
  },
  "language_info": {
   "codemirror_mode": {
    "name": "ipython",
    "version": 3
   },
   "file_extension": ".py",
   "mimetype": "text/x-python",
   "name": "python",
   "nbconvert_exporter": "python",
   "pygments_lexer": "ipython3",
   "version": "3.12.7"
  }
 },
 "nbformat": 4,
 "nbformat_minor": 5
}
