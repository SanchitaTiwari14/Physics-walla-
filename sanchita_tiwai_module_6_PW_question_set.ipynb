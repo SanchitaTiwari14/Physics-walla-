{
 "cells": [
  {
   "cell_type": "markdown",
   "id": "9f1a8492-5f3c-4860-894b-9f1f63c8378b",
   "metadata": {},
   "source": [
    "Files, exceptional handling, logging and\n",
    "memory management Questions"
   ]
  },
  {
   "cell_type": "markdown",
   "id": "f5ed4ee3-7bd2-454b-95ac-69af1dc3b008",
   "metadata": {},
   "source": [
    "Theory questions"
   ]
  },
  {
   "cell_type": "code",
   "execution_count": 55,
   "id": "b12df64b-1c84-4fc4-8b78-ff063d88eaba",
   "metadata": {},
   "outputs": [],
   "source": [
    "#Question 1 :- What is the difference between interpreted and compiled languages\n",
    "#Answer 1:-In interpreted languages, the code is executed line-by-line by an interpreter,\n",
    "#while in compiled languages, the code is translated into machine code all at once by a compiler before\n",
    "#it is executed.\n",
    "#This means interpreted languages run slower but are more flexible, \n",
    "#while compiled languages typically run faster but require an extra step for translation."
   ]
  },
  {
   "cell_type": "code",
   "execution_count": 57,
   "id": "af1fb2b1-c7f4-4944-953e-6e4158bd935e",
   "metadata": {},
   "outputs": [],
   "source": [
    "#Question 2 :- What is exception handling in Python?\n",
    "#Answer 2:-Exception handling in Python is a way to manage errors that occur during program execution. \n",
    "#It uses try, except, else, and finally blocks to catch and handle errors without crashing the program."
   ]
  },
  {
   "cell_type": "code",
   "execution_count": 59,
   "id": "3429a5db-567d-4c90-8897-6393c194ecae",
   "metadata": {},
   "outputs": [],
   "source": [
    "#Question 3 :-What is the purpose of the finally block in exception handling?\n",
    "#Answer 3:-The finally block in exception handling is used to define code that will always execute, \n",
    "#regardless of whether an exception occurred or not. It is typically used for cleanup tasks, \n",
    "#like closing files or releasing resources, to ensure they happen even if an error is encountered."
   ]
  },
  {
   "cell_type": "code",
   "execution_count": 11,
   "id": "4216743d-8451-4a8a-abcf-10ba75fe7552",
   "metadata": {},
   "outputs": [],
   "source": [
    "#Question 4 :-What is logging in Python?\n",
    "#Answer 4:-Logging in Python is a way to track and record events that happen during the execution of a program.\n",
    "#It helps developers understand the program's flow, debug issues, and monitor performance by generating logs.\n",
    "#Python provides the logging module, which allows you to create logs with different levels of severity, such as:\n",
    "\n",
    "#DEBUG: Detailed information, typically for diagnosing problems.\n",
    "#INFO: General information about the program's operation.\n",
    "#WARNING: Indications that something unexpected happened, but the program is still running.\n",
    "#ERROR: A more serious problem that might affect the program's functionality.\n",
    "#CRITICAL: A very severe error that could cause the program to stop."
   ]
  },
  {
   "cell_type": "code",
   "execution_count": 61,
   "id": "4c878f1b-be5c-4ffb-8e5c-e8a4bef20b7b",
   "metadata": {},
   "outputs": [],
   "source": [
    "#Question 5:- What is the significance of the __del__ method in Python?\n",
    "#Answer 5 :-The __del__ method in Python is a special method called a destructor.\n",
    "#It is automatically called when an object is about to be destroyed (i.e., when it is no longer referenced\n",
    "#and is garbage collected).\n",
    "#The purpose of __del__ is to perform cleanup tasks, such as closing files, releasing resources, \n",
    "#or any other cleanup actions before the object is deleted."
   ]
  },
  {
   "cell_type": "code",
   "execution_count": 63,
   "id": "a0003158-16e2-460e-92d8-33f0dfdddb12",
   "metadata": {},
   "outputs": [],
   "source": [
    "#Question 6 :-What is the difference between import and from ... import in Python\n",
    "#Answer6:-The difference between import and from ... import in Python lies in how you access functions, classes, or variables from a module:\n",
    "\n",
    "#import module_name:\n",
    "\n",
    "#This imports the entire module and you access its contents using the module name as a prefix.\n",
    "\n",
    "\n",
    "\n",
    "#from module_name import item:\n",
    "\n",
    "#This imports a specific item (e.g., function, class, or variable) directly from the module, \n",
    "#so you don't need to use the module name to access it.\n",
    "\n",
    "#import module_name: You refer to functions/variables with module_name.item.\n",
    "#from module_name import item: You can directly use item without the module prefix."
   ]
  },
  {
   "cell_type": "code",
   "execution_count": 65,
   "id": "90559f18-0466-4233-b640-ccd72d54bf9c",
   "metadata": {},
   "outputs": [],
   "source": [
    "#Question 7:- How can you handle multiple exceptions in Python?\n",
    "#Answer 7:-In Python, you can handle multiple exceptions in several ways:\n",
    "#1. Using multiple except blocks\n",
    "#2. Using a single except block for multiple exceptions:\n",
    "#3. Using except with a base class:"
   ]
  },
  {
   "cell_type": "code",
   "execution_count": 67,
   "id": "f97706f7-8590-442f-8a07-f126e6a63b7d",
   "metadata": {},
   "outputs": [],
   "source": [
    "#Question 8:-What is the purpose of the with statement when handling files in Python ?\n",
    "#Answer 8:-The with statement in Python is used to handle files (and other resources) in a way that ensures\n",
    "#proper cleanup, such as automatically closing the file after it is no longer needed.\n",
    "#When working with files, the with statement ensures that the file is properly closed,\n",
    "#even if an error occurs while reading or writing. This helps prevent resource leaks \n",
    "#and makes code more concise and easier to read."
   ]
  },
  {
   "cell_type": "code",
   "execution_count": 69,
   "id": "6db3ecc1-0f89-4616-8ba6-dcc5ea155814",
   "metadata": {},
   "outputs": [],
   "source": [
    "#Question 9 :- What is the difference between multithreading and multiprocessing?\n",
    "#Answer 9:-Multithreading is better for I/O-bound tasks and involves shared memory.\n",
    "#Multiprocessing is better for CPU-bound tasks and uses separate memory for each process, \n",
    "#enabling parallel execution on multiple cores."
   ]
  },
  {
   "cell_type": "code",
   "execution_count": 71,
   "id": "6ca4ab1c-a0a6-44b2-b5d2-0c999a735876",
   "metadata": {},
   "outputs": [],
   "source": [
    "#Question 10 :-What are the advantages of using logging in a program?\n",
    "#Answer 10:-Logging enhances your ability to monitor, troubleshoot, and maintain your \n",
    "#application while allowing flexible and persistent error and event tracking."
   ]
  },
  {
   "cell_type": "code",
   "execution_count": 73,
   "id": "fcaad3ac-e9b3-4ca6-ac1e-2f011ea81402",
   "metadata": {},
   "outputs": [],
   "source": [
    "#Question 11:-What is memory management in Python?\n",
    "#Answer 11:-Memory management in Python is automatic, primarily managed by reference counting and \n",
    "#garbage collection. This system helps optimize memory usage and performance without requiring \n",
    "#explicit memory management from developers, though some control can be exerted through techniques \n",
    "#like weak references and the gc module."
   ]
  },
  {
   "cell_type": "code",
   "execution_count": 75,
   "id": "eb214e28-f3b1-4be3-bc7d-50fec35346f7",
   "metadata": {},
   "outputs": [],
   "source": [
    "#Question 12:-What are the basic steps involved in exception handling in Python\n",
    "#Answer 12:-steps:\n",
    "#try: Place code that might raise an exception.\n",
    "#except: Handle specific exceptions.\n",
    "#else: Optionally run code if no exception occurred.\n",
    "#finally: Optionally run code regardless of exceptions (e.g., cleanup)."
   ]
  },
  {
   "cell_type": "code",
   "execution_count": 77,
   "id": "e3d127dc-0d86-40cf-bd8d-ed3ddd5bda9e",
   "metadata": {},
   "outputs": [],
   "source": [
    "#Question 13:-Why is memory management important in Python?\n",
    "#Answer 13:-Memory management is essential in Python to ensure efficient use of resources, \n",
    "#avoid memory leaks, maintain performance, and ensure that the system operates smoothly, \n",
    "#especially in long-running or resource-intensive applications."
   ]
  },
  {
   "cell_type": "code",
   "execution_count": 79,
   "id": "6446d6ee-f493-4692-a15d-1cfb7b706b62",
   "metadata": {},
   "outputs": [],
   "source": [
    "#Question 14 :-What is the role of try and except in exception handling?\n",
    "#Answer14:-The try and except blocks in Python are fundamental for handling exceptions, \n",
    "#allowing you to manage errors gracefully without crashing the program.\n",
    "\n",
    "#try: Runs code that may raise an exception.\n",
    "#except: Handles the exception if it occurs, preventing program crashes and allowing for graceful error handling.\n",
    "\n"
   ]
  },
  {
   "cell_type": "code",
   "execution_count": 81,
   "id": "661c4741-2b08-4486-aa4b-04787a8eaa9d",
   "metadata": {},
   "outputs": [],
   "source": [
    "#Question 15 :-How does Python's garbage collection system work?\n",
    "#Answer 15:-Python’s garbage collection system automatically manages memory using reference counting and\n",
    "#cyclic garbage collection. It ensures that objects are deallocated when no longer in use and handles \n",
    "#circular references to prevent memory leaks. The system runs automatically, but it can be controlled or \n",
    "#monitored using the gc module."
   ]
  },
  {
   "cell_type": "code",
   "execution_count": 37,
   "id": "876a5e62-0ee9-462e-b3e4-b1f9211a7c8f",
   "metadata": {},
   "outputs": [],
   "source": [
    "#Question 16:-What is the purpose of the else block in exception handling\n",
    "#Answer 16:-The else block provides a clear place to execute code that should only run \n",
    "#if the try block completes successfully without errors, ensuring that the exception handling \n",
    "#logic remains distinct and concise."
   ]
  },
  {
   "cell_type": "code",
   "execution_count": 83,
   "id": "b186ec1b-34c4-4509-9623-e4688d8bb5a0",
   "metadata": {},
   "outputs": [],
   "source": [
    "#Question 17:-What are the common logging levels in Python?\n",
    "#Answer 17:-common logging levels:\n",
    "#DEBUG: Detailed debug information.\n",
    "#INFO: General information about the program's execution.\n",
    "#WARNING: Warnings about potential issues.\n",
    "#ERROR: Errors affecting functionality.\n",
    "#CRITICAL: Severe issues that could stop the program.\n",
    "#By setting the logging level, you can control which messages are logged.\n",
    "#For example, setting the level to INFO will capture INFO, WARNING, ERROR, and CRITICAL messages, \n",
    "#but exclude DEBUG messages."
   ]
  },
  {
   "cell_type": "code",
   "execution_count": 85,
   "id": "13c66282-3236-4bde-a185-0fbc1330f8af",
   "metadata": {},
   "outputs": [],
   "source": [
    "#Question 18:- What is the difference between os.fork() and multiprocessing in Python?\n",
    "#Answer 18:-os.fork(): A low-level system call that is specific to Unix-like systems, \n",
    "#providing a direct way to create child processes. \n",
    "#It is more complex and requires careful handling of resources.\n",
    "#multiprocessing: A higher-level, cross-platform library that abstracts the complexities of \n",
    "#process creation and management, with built-in support for parallelism and communication between processes.\n",
    "#It is generally preferred for most use cases requiring process-based parallelism."
   ]
  },
  {
   "cell_type": "code",
   "execution_count": 87,
   "id": "18c10513-cdf2-4d77-a9e6-6636b91dc655",
   "metadata": {},
   "outputs": [],
   "source": [
    "#Question 19:- What is the importance of closing a file in Python?\n",
    "#Answer 19:-Closing a file ensures system resources are freed, data is properly saved, and\n",
    "#file locking issues are avoided.\n",
    "#The best practice is to use the with statement to automatically handle file closing,\n",
    "#making your code more robust and easier to maintain."
   ]
  },
  {
   "cell_type": "code",
   "execution_count": 89,
   "id": "7a59fdb5-517d-4fe1-9fe2-70d7098ecfec",
   "metadata": {},
   "outputs": [],
   "source": [
    "#Question 20:-What is the difference between file.read() and file.readline() in Python?\n",
    "#Answer 20:-file.read() is used when you want to read the entire file into memory as one large string.\n",
    "#file.readline() is used when you want to process the file line by line, which is more efficient for large files."
   ]
  },
  {
   "cell_type": "code",
   "execution_count": 91,
   "id": "47287fb8-b5cd-48fd-9920-6eee1baa4e17",
   "metadata": {},
   "outputs": [],
   "source": [
    "#Question 21:-What is the logging module in Python used for?\n",
    "#Answer 21:-The logging module provides a powerful and flexible way to track events in Python applications. \n",
    "#It is more sophisticated than using print statements for error reporting, and it helps you manage and \n",
    "#filter log messages by severity, making it an essential tool for debugging and maintaining production-ready \n",
    "#applications."
   ]
  },
  {
   "cell_type": "code",
   "execution_count": 93,
   "id": "48702bd3-01e3-4367-9e8e-5f57af4afdf1",
   "metadata": {},
   "outputs": [],
   "source": [
    "#Question 22:-What is the os module in Python used for in file handling?\n",
    "#Answer 22:-The os module is a powerful tool for handling file operations and interacting with the file system\n",
    "#in Python. It provides low-level functions for file management (like creating, renaming, and deleting files), \n",
    "#checking file existence, and working with directories. It’s particularly useful when you need platform-independent \n",
    "#code for file manipulation or need to perform operations beyond what the built-in open() function offers."
   ]
  },
  {
   "cell_type": "code",
   "execution_count": 95,
   "id": "cea5d323-e510-4c18-9a32-ce3e50687363",
   "metadata": {},
   "outputs": [],
   "source": [
    "#Question  23:-What are the challenges associated with memory management in Python\n",
    "#Answer 23:-Python offers automatic memory management and garbage collection, challenges such as\n",
    "#cyclic references, memory fragmentation, memory leaks, and high memory overhead can still arise. Developers \n",
    "#can manage these challenges by carefully structuring code, using memory-efficient data structures, and \n",
    "#leveraging tools to identify and solve memory issues. Understanding Python's memory management system and \n",
    "#its limitations is key to building efficient and scalable applications.\n"
   ]
  },
  {
   "cell_type": "code",
   "execution_count": 97,
   "id": "c360160e-4d6b-4a16-8a32-861672ed0625",
   "metadata": {},
   "outputs": [],
   "source": [
    "#Question 24:- How do you raise an exception manually in Python?\n",
    "#Answer 24:-raise is used to manually raise exceptions in Python.\n",
    "#You can raise both built-in exceptions (like ValueError, TypeError) or create and raise custom exceptions.\n",
    "#Raising exceptions manually allows you to handle error conditions gracefully and control the flow of your program.\n",
    "\n",
    "\n"
   ]
  },
  {
   "cell_type": "code",
   "execution_count": 99,
   "id": "0225e7f0-30ee-4560-be91-4c52807e2254",
   "metadata": {},
   "outputs": [],
   "source": [
    "#Question 25:-Why is it important to use multithreading in certain applications?\n",
    "#Answer 25:-Using multithreading in Python or any other programming language is important in\n",
    "#scenarios where concurrent execution of tasks can improve application performance, responsiveness,\n",
    "#and efficiency. It’s especially useful for I/O-bound tasks (such as network operations, file handling),\n",
    "#improving user experience in GUI applications, and scaling server-side or networked applications to handle\n",
    "#many clients concurrently. However, for CPU-bound tasks, other techniques like multiprocessing or leveraging \n",
    "#more advanced concurrency mechanisms (e.g., async programming, multiprocessing with multiple cores) \n",
    "#might be more suitable due to limitations like Python's Global Interpreter Lock (GIL)."
   ]
  },
  {
   "cell_type": "code",
   "execution_count": null,
   "id": "a65b334c-5989-4712-aa23-cfefe3d1d201",
   "metadata": {},
   "outputs": [],
   "source": []
  },
  {
   "cell_type": "code",
   "execution_count": null,
   "id": "57ffd37a-31a9-46f4-b562-02f38d28af79",
   "metadata": {},
   "outputs": [],
   "source": []
  },
  {
   "cell_type": "code",
   "execution_count": null,
   "id": "e6377d28-91f4-4801-a3e5-72dcf0407f75",
   "metadata": {},
   "outputs": [],
   "source": []
  },
  {
   "cell_type": "code",
   "execution_count": null,
   "id": "53bcd73d-b6b0-47a5-a1cd-2bec8deef04a",
   "metadata": {},
   "outputs": [],
   "source": []
  },
  {
   "cell_type": "code",
   "execution_count": null,
   "id": "c322112e-0bfc-42cb-a5f3-4e03ba00dd5c",
   "metadata": {},
   "outputs": [],
   "source": []
  },
  {
   "cell_type": "code",
   "execution_count": null,
   "id": "6cceb838-90d6-4ec6-831c-50e3f51f2ec1",
   "metadata": {},
   "outputs": [],
   "source": []
  },
  {
   "cell_type": "code",
   "execution_count": null,
   "id": "2c1b590e-5590-4c7f-b396-a8d93362c623",
   "metadata": {},
   "outputs": [],
   "source": []
  },
  {
   "cell_type": "code",
   "execution_count": null,
   "id": "9993d026-76e8-48a3-9f12-60a5b22037f3",
   "metadata": {},
   "outputs": [],
   "source": []
  },
  {
   "cell_type": "code",
   "execution_count": null,
   "id": "b01f66c9-221a-4309-90e5-6583968695a1",
   "metadata": {},
   "outputs": [],
   "source": []
  },
  {
   "cell_type": "code",
   "execution_count": null,
   "id": "a46d437f-4c33-44b8-bd1b-db297d5d450e",
   "metadata": {},
   "outputs": [],
   "source": []
  },
  {
   "cell_type": "code",
   "execution_count": null,
   "id": "d7c55927-702d-45ba-a1af-d858bd7ec7b4",
   "metadata": {},
   "outputs": [],
   "source": []
  },
  {
   "cell_type": "code",
   "execution_count": null,
   "id": "cbcd37b0-2e5d-4dbb-a0e4-3139cd29730a",
   "metadata": {},
   "outputs": [],
   "source": []
  },
  {
   "cell_type": "code",
   "execution_count": null,
   "id": "6d5e3b14-f422-47ca-9423-1c4a0e691317",
   "metadata": {},
   "outputs": [],
   "source": []
  },
  {
   "cell_type": "code",
   "execution_count": null,
   "id": "b41628ff-d66f-47d3-b33a-3b6fe7a42c25",
   "metadata": {},
   "outputs": [],
   "source": []
  },
  {
   "cell_type": "code",
   "execution_count": null,
   "id": "0c238e17-12a7-44d1-881d-8853f8b4a43c",
   "metadata": {},
   "outputs": [],
   "source": []
  },
  {
   "cell_type": "markdown",
   "id": "a43d2c3c-2c70-47d8-b69c-2066ec83020e",
   "metadata": {},
   "source": [
    "Practical Questions"
   ]
  },
  {
   "cell_type": "code",
   "execution_count": 117,
   "id": "be0cc0db-bd03-4dd7-a9ad-6df8fc3e0e54",
   "metadata": {},
   "outputs": [],
   "source": [
    "#1 How can you open a file for writing in Python and write a string to it?\n",
    "\n",
    "#code\n",
    "\n",
    "# Open a file in write mode ('w'). This will create the file if it doesn't exist\n",
    "with open('example.txt', 'w') as file:\n",
    "    # Write a string to the file\n",
    "    file.write(\"Hello, this is a string written to the file.\")\n",
    "    \n",
    "# The file is automatically closed after the block is exited\n"
   ]
  },
  {
   "cell_type": "code",
   "execution_count": 119,
   "id": "ee2acb6a-47f7-4530-a503-59246d268fdd",
   "metadata": {},
   "outputs": [
    {
     "name": "stdout",
     "output_type": "stream",
     "text": [
      "Hello, this is a string written to the file.\n"
     ]
    }
   ],
   "source": [
    "#2 Write a Python program to read the contents of a file and print each lineF\n",
    "\n",
    "#code\n",
    "\n",
    "\n",
    "# Open the file in read mode ('r')\n",
    "with open('example.txt', 'r') as file:\n",
    "    # Iterate through each line in the file\n",
    "    for line in file:\n",
    "        # Print each line\n",
    "        print(line.strip())  # `strip()` is used to remove extra newlines\n"
   ]
  },
  {
   "cell_type": "code",
   "execution_count": 121,
   "id": "2cf7d581-6ab0-4e6e-a662-a039ef06888c",
   "metadata": {},
   "outputs": [
    {
     "name": "stdout",
     "output_type": "stream",
     "text": [
      "Hello, this is a string written to the file.\n"
     ]
    }
   ],
   "source": [
    "#3 How would you handle a case where the file doesn't exist while trying to open it for reading\n",
    "\n",
    "\n",
    "#code\n",
    "\n",
    "\n",
    "try:\n",
    "    # Try to open the file in read mode\n",
    "    with open('example.txt', 'r') as file:\n",
    "        # Read and print the contents of the file\n",
    "        for line in file:\n",
    "            print(line.strip())  # Remove leading/trailing whitespace/newlines\n",
    "except FileNotFoundError:\n",
    "    # Handle the case where the file does not exist\n",
    "    print(\"Error: The file 'example.txt' does not exist.\")\n"
   ]
  },
  {
   "cell_type": "code",
   "execution_count": 123,
   "id": "06011225-c78a-4de5-986f-50280192fed5",
   "metadata": {},
   "outputs": [
    {
     "name": "stdout",
     "output_type": "stream",
     "text": [
      "Error: The source file does not exist.\n"
     ]
    }
   ],
   "source": [
    "#4 Write a Python script that reads from one file and writes its content to another fileF\n",
    "\n",
    "#code\n",
    "\n",
    "\n",
    "# Open the source file in read mode and the destination file in write mode\n",
    "try:\n",
    "    with open('source.txt', 'r') as source_file:\n",
    "        with open('destination.txt', 'w') as destination_file:\n",
    "            # Read each line from the source file and write it to the destination file\n",
    "            for line in source_file:\n",
    "                destination_file.write(line)\n",
    "    print(\"File contents have been successfully copied.\")\n",
    "except FileNotFoundError:\n",
    "    print(\"Error: The source file does not exist.\")\n"
   ]
  },
  {
   "cell_type": "code",
   "execution_count": 125,
   "id": "52c75091-b948-4f33-a065-64074f2fa139",
   "metadata": {},
   "outputs": [
    {
     "name": "stdout",
     "output_type": "stream",
     "text": [
      "Error: Division by zero is not allowed.\n"
     ]
    }
   ],
   "source": [
    "#5   How would you catch and handle division by zero error in Python?\n",
    "\n",
    "\n",
    "\n",
    "#code\n",
    "\n",
    "try:\n",
    "    # Attempt to perform division\n",
    "    numerator = 10\n",
    "    denominator = 0\n",
    "    result = numerator / denominator\n",
    "except ZeroDivisionError:\n",
    "    # Handle the division by zero error\n",
    "    print(\"Error: Division by zero is not allowed.\")\n",
    "else:\n",
    "    # If no error occurs, print the result\n",
    "    print(f\"Result: {result}\")\n"
   ]
  },
  {
   "cell_type": "code",
   "execution_count": 127,
   "id": "842251ed-b359-4926-9e37-5059a549eac2",
   "metadata": {},
   "outputs": [],
   "source": [
    "#6 Write a Python program that logs an error message to a log file when a division by zero exception occursF\n",
    "\n",
    "\n",
    "\n",
    "#code\n",
    "import logging\n",
    "\n",
    "# Set up the logging configuration to log errors to a file\n",
    "logging.basicConfig(filename='error_log.txt', level=logging.ERROR, \n",
    "                    format='%(asctime)s - %(levelname)s - %(message)s')\n",
    "\n",
    "try:\n",
    "    # Perform division operation\n",
    "    numerator = 10\n",
    "    denominator = 0\n",
    "    result = numerator / denominator\n",
    "\n",
    "except ZeroDivisionError as e:\n",
    "    # Log the error message to the log file\n",
    "    logging.error(f\"Division by zero error: {e}\")\n",
    "\n"
   ]
  },
  {
   "cell_type": "code",
   "execution_count": 129,
   "id": "f7ff9884-ba92-435e-b69c-6b25c72c02a6",
   "metadata": {},
   "outputs": [],
   "source": [
    "#7 How do you log information at different levels (INFO, ERROR, WARNING) in Python using the logging module\u001f\n",
    "\n",
    "\n",
    "#code\n",
    "\n",
    "\n",
    "import logging\n",
    "\n",
    "# Set up basic logging configuration\n",
    "logging.basicConfig(filename='app_log.txt', \n",
    "                    level=logging.DEBUG,  # Set the threshold to DEBUG to capture all levels\n",
    "                    format='%(asctime)s - %(levelname)s - %(message)s')\n",
    "\n",
    "# Log messages at different levels\n",
    "logging.debug(\"This is a DEBUG message\")\n",
    "logging.info(\"This is an INFO message\")\n",
    "logging.warning(\"This is a WARNING message\")\n",
    "logging.error(\"This is an ERROR message\")\n",
    "logging.critical(\"This is a CRITICAL message\")\n"
   ]
  },
  {
   "cell_type": "code",
   "execution_count": 131,
   "id": "049fbb6e-717b-49cc-bbe2-9bfb795a21f6",
   "metadata": {},
   "outputs": [
    {
     "name": "stdout",
     "output_type": "stream",
     "text": [
      "Hello, this is a string written to the file.\n"
     ]
    }
   ],
   "source": [
    "#8 Write a program to handle a file opening error using exception handlingF\n",
    "\n",
    "\n",
    "#code\n",
    "try:\n",
    "    # Attempt to open the file\n",
    "    with open('example.txt', 'r') as file:\n",
    "        content = file.read()\n",
    "        print(content)\n",
    "        \n",
    "except FileNotFoundError:\n",
    "    # Handle the case where the file is not found\n",
    "    print(\"Error: The file 'example.txt' does not exist.\")\n",
    "    \n",
    "except PermissionError:\n",
    "    # Handle the case where the program doesn't have permission to access the file\n",
    "    print(\"Error: You do not have permission to open 'example.txt'.\")\n",
    "    \n",
    "except Exception as e:\n",
    "    # Handle any other unexpected errors\n",
    "    print(f\"An unexpected error occurred: {e}\")\n"
   ]
  },
  {
   "cell_type": "code",
   "execution_count": 133,
   "id": "04b951ce-4ae6-48b5-9327-45f159095355",
   "metadata": {},
   "outputs": [
    {
     "name": "stdout",
     "output_type": "stream",
     "text": [
      "['Hello, this is a string written to the file.']\n"
     ]
    }
   ],
   "source": [
    "#9 How can you read a file line by line and store its content in a list in Python?\n",
    "\n",
    "\n",
    "#code\n",
    "\n",
    "\n",
    "# Open the file in read mode\n",
    "with open('example.txt', 'r') as file:\n",
    "    # Read each line and store it in a list, stripping newlines\n",
    "    lines = [line.strip() for line in file]\n",
    "\n",
    "# Print the list containing the file's content\n",
    "print(lines)\n"
   ]
  },
  {
   "cell_type": "code",
   "execution_count": 135,
   "id": "f95febc7-5839-4686-b189-5771d3c01e6f",
   "metadata": {},
   "outputs": [],
   "source": [
    "#10  How can you append data to an existing file in Python\n",
    "\n",
    "#code\n",
    "\n",
    "# Open the file in append mode\n",
    "with open('example.txt', 'a') as file:\n",
    "    # Append data to the file\n",
    "    file.write(\"\\nThis is a new line appended to the file.\")\n"
   ]
  },
  {
   "cell_type": "code",
   "execution_count": 137,
   "id": "29df207c-0df5-4f83-8d81-d1a502c21fec",
   "metadata": {},
   "outputs": [
    {
     "name": "stdout",
     "output_type": "stream",
     "text": [
      "Error: The key 'gender' does not exist in the dictionary.\n"
     ]
    }
   ],
   "source": [
    "#11 Write a Python program that uses a try-except block to handle an error when attempting to access a\n",
    "#dictionary key that doesn't exist\n",
    "\n",
    "\n",
    "\n",
    "\n",
    "#code\n",
    "\n",
    "# Sample dictionary\n",
    "my_dict = {'name': 'Alice', 'age': 25, 'city': 'New York'}\n",
    "\n",
    "try:\n",
    "    # Attempt to access a key that doesn't exist\n",
    "    print(my_dict['gender'])\n",
    "except KeyError as e:\n",
    "    # Handle the KeyError\n",
    "    print(f\"Error: The key {e} does not exist in the dictionary.\")\n"
   ]
  },
  {
   "cell_type": "code",
   "execution_count": 141,
   "id": "fca9e1aa-4115-4c35-9cc9-730b2084814f",
   "metadata": {},
   "outputs": [
    {
     "name": "stdout",
     "output_type": "stream",
     "text": [
      "Error: Division by zero is not allowed.\n"
     ]
    }
   ],
   "source": [
    "#12 Write a program that demonstrates using multiple except blocks to handle different types of exceptions\n",
    "\n",
    "\n",
    "#code\n",
    "\n",
    "def handle_exceptions():\n",
    "    try:\n",
    "        # Trying multiple operations that may cause exceptions\n",
    "\n",
    "        # Uncomment one of the following lines to test different exceptions\n",
    "\n",
    "        # ZeroDivisionError example\n",
    "        result = 10 / 0\n",
    "        \n",
    "        # ValueError example\n",
    "        # num = int(\"abc\")\n",
    "        \n",
    "        # FileNotFoundError example\n",
    "        # with open(\"non_existent_file.txt\", 'r') as file:\n",
    "        #     content = file.read()\n",
    "\n",
    "    except ZeroDivisionError:\n",
    "        print(\"Error: Division by zero is not allowed.\")\n",
    "        \n",
    "    except ValueError:\n",
    "        print(\"Error: Invalid value input. Please enter a valid number.\")\n",
    "        \n",
    "    except FileNotFoundError:\n",
    "        print(\"Error: The file was not found.\")\n",
    "        \n",
    "    except Exception as e:\n",
    "        # Generic exception for any other errors\n",
    "        print(f\"An unexpected error occurred: {e}\")\n",
    "\n",
    "# Call the function to test exception handling\n",
    "handle_exceptions()\n"
   ]
  },
  {
   "cell_type": "code",
   "execution_count": 143,
   "id": "785ddf02-b513-4fea-a8db-c56896d683e3",
   "metadata": {},
   "outputs": [
    {
     "name": "stdout",
     "output_type": "stream",
     "text": [
      "Hello, this is a string written to the file.\n",
      "This is a new line appended to the file.\n"
     ]
    }
   ],
   "source": [
    "#13 How would you check if a file exists before attempting to read it in Python\n",
    "\n",
    "\n",
    "#code\n",
    "\n",
    "\n",
    "import os\n",
    "\n",
    "# Path to the file you want to check\n",
    "file_path = 'example.txt'\n",
    "\n",
    "# Check if the file exists\n",
    "if os.path.exists(file_path):\n",
    "    with open(file_path, 'r') as file:\n",
    "        content = file.read()\n",
    "        print(content)\n",
    "else:\n",
    "    print(f\"Error: The file '{file_path}' does not exist.\")\n"
   ]
  },
  {
   "cell_type": "code",
   "execution_count": 145,
   "id": "75dcc6c6-09d2-4792-8f61-77d761cb95c9",
   "metadata": {},
   "outputs": [],
   "source": [
    "#14 Write a program that uses the logging module to log both informational and error messages\n",
    "\n",
    "\n",
    "\n",
    "#code\n",
    "\n",
    "\n",
    "import logging\n",
    "\n",
    "# Configure logging to log to a file, with a log level of INFO\n",
    "logging.basicConfig(filename='app.log', \n",
    "                    level=logging.INFO,  # Log messages with level INFO and above\n",
    "                    format='%(asctime)s - %(levelname)s - %(message)s')\n",
    "\n",
    "# Log an informational message\n",
    "logging.info(\"This is an informational message.\")\n",
    "\n",
    "# Log an error message\n",
    "try:\n",
    "    # Attempting to divide by zero to generate an error\n",
    "    result = 10 / 0\n",
    "except ZeroDivisionError as e:\n",
    "    logging.error(f\"An error occurred: {e}\")\n"
   ]
  },
  {
   "cell_type": "code",
   "execution_count": 147,
   "id": "da4947cd-dab4-477d-8c76-19e9ce8922bc",
   "metadata": {},
   "outputs": [
    {
     "name": "stdout",
     "output_type": "stream",
     "text": [
      "File content:\n",
      "Hello, this is a string written to the file.\n",
      "This is a new line appended to the file.\n"
     ]
    }
   ],
   "source": [
    "#15  Write a Python program that prints the content of a file and handles the case when the file is empty\n",
    "\n",
    "\n",
    "\n",
    "#code\n",
    "\n",
    "\n",
    "def read_file(file_path):\n",
    "    try:\n",
    "        # Open the file in read mode\n",
    "        with open(file_path, 'r') as file:\n",
    "            content = file.read()\n",
    "            \n",
    "            # Check if the file is empty\n",
    "            if not content:\n",
    "                print(\"The file is empty.\")\n",
    "            else:\n",
    "                print(\"File content:\")\n",
    "                print(content)\n",
    "    \n",
    "    except FileNotFoundError:\n",
    "        # Handle the case when the file doesn't exist\n",
    "        print(f\"Error: The file '{file_path}' does not exist.\")\n",
    "    except Exception as e:\n",
    "        # Catch any other unexpected errors\n",
    "        print(f\"An unexpected error occurred: {e}\")\n",
    "\n",
    "# File path (change to your desired file path)\n",
    "file_path = 'example.txt'\n",
    "\n",
    "# Call the function to read and print the file content\n",
    "read_file(file_path)\n"
   ]
  },
  {
   "cell_type": "code",
   "execution_count": 151,
   "id": "a7e800e3-2410-4e7a-8135-66342b2a0890",
   "metadata": {},
   "outputs": [
    {
     "ename": "SyntaxError",
     "evalue": "invalid syntax (2726948905.py, line 3)",
     "output_type": "error",
     "traceback": [
      "\u001b[1;36m  Cell \u001b[1;32mIn[151], line 3\u001b[1;36m\u001b[0m\n\u001b[1;33m    pip install memory-profiler\u001b[0m\n\u001b[1;37m        ^\u001b[0m\n\u001b[1;31mSyntaxError\u001b[0m\u001b[1;31m:\u001b[0m invalid syntax\n"
     ]
    }
   ],
   "source": [
    "#16  Demonstrate how to use memory profiling to check the memory usage of a small program\n",
    "\n",
    "pip install memory-profiler\n",
    "#code\n",
    "from memory_profiler import profile\n",
    "\n",
    "# Example function to demonstrate memory profiling\n",
    "@profile\n",
    "def my_program():\n",
    "    a = [i * 2 for i in range(1000000)]  # Create a list with a million elements\n",
    "    b = sum(a)  # Sum the elements of the list\n",
    "    print(f\"Sum of list: {b}\")\n",
    "\n",
    "if __name__ == \"__main__\":\n",
    "    my_program()\n"
   ]
  },
  {
   "cell_type": "code",
   "execution_count": 153,
   "id": "55a917b7-e7de-4969-a5d6-cb9143e1e3d0",
   "metadata": {},
   "outputs": [
    {
     "name": "stdout",
     "output_type": "stream",
     "text": [
      "Numbers have been written to 'numbers.txt'.\n"
     ]
    }
   ],
   "source": [
    "#17  Write a Python program to create and write a list of numbers to a file, one number per lineF\n",
    "\n",
    "\n",
    "#code\n",
    "\n",
    "\n",
    "# List of numbers to write to the file\n",
    "numbers = [1, 2, 3, 4, 5, 6, 7, 8, 9, 10]\n",
    "\n",
    "# Open the file in write mode\n",
    "with open('numbers.txt', 'w') as file:\n",
    "    # Write each number to the file, one per line\n",
    "    for number in numbers:\n",
    "        file.write(f\"{number}\\n\")\n",
    "\n",
    "print(\"Numbers have been written to 'numbers.txt'.\")\n"
   ]
  },
  {
   "cell_type": "code",
   "execution_count": 155,
   "id": "8c50cb9f-3ea6-4d6f-bd6a-85084650cc4a",
   "metadata": {},
   "outputs": [],
   "source": [
    "#18  How would you implement a basic logging setup that logs to a file with rotation after 1MB\n",
    "\n",
    "#code\n",
    "\n",
    "\n",
    "\n",
    "\n",
    "import logging\n",
    "from logging.handlers import RotatingFileHandler\n",
    "\n",
    "# Define the log file and setup rotation after 1MB\n",
    "log_file = 'app.log'\n",
    "max_log_size = 1 * 1024 * 1024  # 1 MB\n",
    "backup_count = 3  # Keep 3 backup log files\n",
    "\n",
    "# Create a RotatingFileHandler\n",
    "handler = RotatingFileHandler(log_file, maxBytes=max_log_size, backupCount=backup_count)\n",
    "handler.setLevel(logging.INFO)\n",
    "\n",
    "# Define the log format\n",
    "formatter = logging.Formatter('%(asctime)s - %(levelname)s - %(message)s')\n",
    "handler.setFormatter(formatter)\n",
    "\n",
    "# Get the logger and add the handler\n",
    "logger = logging.getLogger()\n",
    "logger.setLevel(logging.INFO)\n",
    "logger.addHandler(handler)\n",
    "\n",
    "# Test logging\n",
    "logger.info(\"This is an info message.\")\n",
    "logger.error(\"This is an error message.\")\n",
    "logger.warning(\"This is a warning message.\")\n",
    "\n",
    "# You can add more log messages as needed to test the rotation.\n"
   ]
  },
  {
   "cell_type": "code",
   "execution_count": 157,
   "id": "68092d58-fcf2-464e-b97c-b7a6137c7950",
   "metadata": {},
   "outputs": [
    {
     "name": "stdout",
     "output_type": "stream",
     "text": [
      "IndexError occurred: list index out of range\n"
     ]
    }
   ],
   "source": [
    "#19 Write a program that handles both IndexError and KeyError using a try-except blockF\n",
    "\n",
    "\n",
    "#code\n",
    "def handle_errors():\n",
    "    # Sample list and dictionary for testing\n",
    "    my_list = [1, 2, 3]\n",
    "    my_dict = {'a': 1, 'b': 2}\n",
    "\n",
    "    try:\n",
    "        # Attempt to access an invalid index in the list\n",
    "        list_item = my_list[5]  # This will raise IndexError\n",
    "        \n",
    "        # Attempt to access a non-existent key in the dictionary\n",
    "        dict_item = my_dict['c']  # This will raise KeyError\n",
    "        \n",
    "    except IndexError as e:\n",
    "        print(f\"IndexError occurred: {e}\")\n",
    "    \n",
    "    except KeyError as e:\n",
    "        print(f\"KeyError occurred: {e}\")\n",
    "        \n",
    "# Call the function to test error handling\n",
    "handle_errors()\n"
   ]
  },
  {
   "cell_type": "code",
   "execution_count": 159,
   "id": "ff4db4a1-db3d-460e-aa54-657bfa54a7f4",
   "metadata": {},
   "outputs": [
    {
     "name": "stdout",
     "output_type": "stream",
     "text": [
      "Hello, this is a string written to the file.\n",
      "This is a new line appended to the file.\n"
     ]
    }
   ],
   "source": [
    "#20 How would you open a file and read its contents using a context manager in Python\n",
    "\n",
    "\n",
    "#code \n",
    "\n",
    "\n",
    "# File path (change to your desired file path)\n",
    "file_path = 'example.txt'\n",
    "\n",
    "# Use a context manager to open the file\n",
    "with open(file_path, 'r') as file:\n",
    "    # Read the entire contents of the file\n",
    "    content = file.read()\n",
    "\n",
    "    # Print the content\n",
    "    print(content)\n"
   ]
  },
  {
   "cell_type": "code",
   "execution_count": 161,
   "id": "fcf2f1e4-e392-4801-9cc7-8258871b0a77",
   "metadata": {},
   "outputs": [
    {
     "name": "stdout",
     "output_type": "stream",
     "text": [
      "The word 'word' occurs 0 times in the file.\n"
     ]
    }
   ],
   "source": [
    "#21 Write a Python program that reads a file and prints the number of occurrences of a specific word\n",
    "\n",
    "\n",
    "#code\n",
    "\n",
    "\n",
    "\n",
    "def count_word_occurrences(file_path, word_to_count):\n",
    "    try:\n",
    "        # Open the file using a context manager\n",
    "        with open(file_path, 'r') as file:\n",
    "            content = file.read()\n",
    "        \n",
    "        # Count the occurrences of the word (case insensitive)\n",
    "        word_count = content.lower().split().count(word_to_count.lower())\n",
    "\n",
    "        print(f\"The word '{word_to_count}' occurs {word_count} times in the file.\")\n",
    "    \n",
    "    except FileNotFoundError:\n",
    "        print(f\"Error: The file '{file_path}' does not exist.\")\n",
    "    except Exception as e:\n",
    "        print(f\"An error occurred: {e}\")\n",
    "\n",
    "# File path (change to your desired file path)\n",
    "file_path = 'example.txt'\n",
    "word_to_count = 'word'  # Replace with the word you want to count\n",
    "\n",
    "# Call the function to count the word occurrences\n",
    "count_word_occurrences(file_path, word_to_count)\n"
   ]
  },
  {
   "cell_type": "code",
   "execution_count": 163,
   "id": "1b6ea2bf-48e7-4d56-8b90-8d60b98f0ce9",
   "metadata": {},
   "outputs": [
    {
     "name": "stdout",
     "output_type": "stream",
     "text": [
      "File content:\n",
      "Hello, this is a string written to the file.\n",
      "This is a new line appended to the file.\n"
     ]
    }
   ],
   "source": [
    "#22 How can you check if a file is empty before attempting to read its contents?\n",
    "\n",
    "\n",
    "#code\n",
    "\n",
    "import os\n",
    "\n",
    "def read_file_if_not_empty(file_path):\n",
    "    # Check if the file exists and if it is empty\n",
    "    if os.path.exists(file_path) and os.stat(file_path).st_size > 0:\n",
    "        try:\n",
    "            # Open the file and read its contents\n",
    "            with open(file_path, 'r') as file:\n",
    "                content = file.read()\n",
    "                print(\"File content:\")\n",
    "                print(content)\n",
    "        except Exception as e:\n",
    "            print(f\"An error occurred while reading the file: {e}\")\n",
    "    else:\n",
    "        print(f\"The file '{file_path}' is empty or does not exist.\")\n",
    "\n",
    "# Example usage\n",
    "file_path = 'example.txt'  # Replace with your file path\n",
    "read_file_if_not_empty(file_path)\n"
   ]
  },
  {
   "cell_type": "code",
   "execution_count": 165,
   "id": "736a9c78-8451-4320-9e20-22e4ad8ef513",
   "metadata": {},
   "outputs": [
    {
     "name": "stdout",
     "output_type": "stream",
     "text": [
      "Error: The file 'non_existent_file.txt' was not found.\n"
     ]
    }
   ],
   "source": [
    "#23 Write a Python program that writes to a log file when an error occurs during file handling.\n",
    "\n",
    "\n",
    "#code\n",
    "\n",
    "\n",
    "import logging\n",
    "\n",
    "# Set up logging configuration\n",
    "logging.basicConfig(\n",
    "    filename='error_log.txt',  # Log file where errors will be written\n",
    "    level=logging.ERROR,  # Log level to capture ERROR and above\n",
    "    format='%(asctime)s - %(levelname)s - %(message)s'\n",
    ")\n",
    "\n",
    "def read_file(file_path):\n",
    "    try:\n",
    "        # Try opening and reading the file\n",
    "        with open(file_path, 'r') as file:\n",
    "            content = file.read()\n",
    "            print(content)  # Print file content to console\n",
    "    except FileNotFoundError:\n",
    "        # Log error if file is not found\n",
    "        logging.error(f\"File not found: {file_path}\")\n",
    "        print(f\"Error: The file '{file_path}' was not found.\")\n",
    "    except IOError as e:\n",
    "        # Log other IO errors\n",
    "        logging.error(f\"IOError occurred while handling the file: {e}\")\n",
    "        print(f\"Error: An IOError occurred: {e}\")\n",
    "    except Exception as e:\n",
    "        # Log any unexpected errors\n",
    "        logging.error(f\"Unexpected error: {e}\")\n",
    "        print(f\"An unexpected error occurred: {e}\")\n",
    "\n",
    "# Example usage\n",
    "file_path = 'non_existent_file.txt'  # Replace with a file path that causes an error\n",
    "read_file(file_path)\n"
   ]
  }
 ],
 "metadata": {
  "kernelspec": {
   "display_name": "Python 3 (ipykernel)",
   "language": "python",
   "name": "python3"
  },
  "language_info": {
   "codemirror_mode": {
    "name": "ipython",
    "version": 3
   },
   "file_extension": ".py",
   "mimetype": "text/x-python",
   "name": "python",
   "nbconvert_exporter": "python",
   "pygments_lexer": "ipython3",
   "version": "3.12.7"
  }
 },
 "nbformat": 4,
 "nbformat_minor": 5
}
