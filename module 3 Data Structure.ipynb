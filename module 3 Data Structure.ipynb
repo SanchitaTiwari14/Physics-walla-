{
 "cells": [
  {
   "cell_type": "code",
   "execution_count": 2,
   "id": "19027fda-4057-43b4-b6f3-be6975667c8d",
   "metadata": {},
   "outputs": [],
   "source": [
    "#theory questions "
   ]
  },
  {
   "cell_type": "code",
   "execution_count": 8,
   "id": "926a606d-57dc-42ce-98c2-bef5df500467",
   "metadata": {},
   "outputs": [
    {
     "data": {
      "text/plain": [
       "'\\nQuestion :- what are data structures, and why are they important?\\n\\n\\nAnswer :-\\nData structures are specialized formats for organizing, storing, and managing data in a computer \\nso that it can be accessed and modified efficiently.\\nData structures are important because they enable efficient data management and optimization of algorithms,\\nallowing for faster data access, manipulation, and storage. By choosing the right data structure, \\nwe can improve the performance of programs, reduce memory usage, and solve complex problems more effectively. \\n\\n'"
      ]
     },
     "execution_count": 8,
     "metadata": {},
     "output_type": "execute_result"
    }
   ],
   "source": [
    "#question 1\n",
    "\n",
    "\n",
    "\n",
    "\n",
    "\n",
    "\n",
    "\n",
    "'''\n",
    "Question :- what are data structures, and why are they important?\n",
    "\n",
    "\n",
    "Answer :-\n",
    "Data structures are specialized formats for organizing, storing, and managing data in a computer \n",
    "so that it can be accessed and modified efficiently.\n",
    "Data structures are important because they enable efficient data management and optimization of algorithms,\n",
    "allowing for faster data access, manipulation, and storage. By choosing the right data structure, \n",
    "we can improve the performance of programs, reduce memory usage, and solve complex problems more effectively. \n",
    "\n",
    "'''"
   ]
  },
  {
   "cell_type": "code",
   "execution_count": 14,
   "id": "ee010a23-baaa-4e0f-b6c5-48e6ecbd6771",
   "metadata": {},
   "outputs": [
    {
     "name": "stdout",
     "output_type": "stream",
     "text": [
      "[10, 2, 3, 4]\n",
      "Hello\n"
     ]
    }
   ],
   "source": [
    "#question 2 \n",
    "\n",
    "\n",
    "'''\n",
    "Question: \n",
    "Explain the difference between mutable and immutable data types with examples.\n",
    "\n",
    "Answer: \n",
    "Mutable and immutable data types refer to whether the contents or value of a data type can be changed after it is created.\n",
    "\n",
    "Mutable Data Types:\n",
    "Definition: Mutable data types can be modified after they are created. The value or contents of these objects can be changed in place.\n",
    "\n",
    "Examples:\n",
    "- Lists: You can add, remove, or modify elements of a list.\n",
    "- Dictionaries: You can change, add, or remove key-value pairs.\n",
    "- Sets: You can add or remove elements from a set.\n",
    "\n",
    "Immutable Data Types:\n",
    "Definition: Immutable data types cannot be changed after they are created. Any operation that tries to modify the object creates a new object instead.\n",
    "\n",
    "Examples:\n",
    "- Strings: You cannot change individual characters of a string.\n",
    "- Tuples: You cannot modify, add, or remove elements in a tuple.\n",
    "- Frozensets: Like sets but immutable.\n",
    "'''\n",
    "\n",
    "# List is mutable\n",
    "my_list = [1, 2, 3]\n",
    "my_list[0] = 10  # Modifying an element\n",
    "my_list.append(4)  # Adding an element\n",
    "print(my_list)  \n",
    "\n",
    "# String is immutable\n",
    "my_string = \"hello\"\n",
    "# Attempting to modify a character will result in an error\n",
    "# my_string[0] = 'H'  # This would raise a TypeError\n",
    "new_string = \"H\" + my_string[1:]  # Creating a new string\n",
    "print(new_string) \n"
   ]
  },
  {
   "cell_type": "code",
   "execution_count": 16,
   "id": "fb4bbd98-df71-4e72-82c0-9b79b7e648ba",
   "metadata": {},
   "outputs": [
    {
     "data": {
      "text/plain": [
       "' \\nQuestion :-What are the main differences between lists and tuples in Python?\\n\\n\\n\\nAnswer :- \\nMutability:\\nLists are mutable, meaning their contents (elements) can be modified after they are created.\\nTuples are immutable, meaning their contents cannot be changed after creation.\\n\\nSyntax for both the data type is different list is created by using square bracket []\\nwhile tuple are created by using paranthises ()\\n'"
      ]
     },
     "execution_count": 16,
     "metadata": {},
     "output_type": "execute_result"
    }
   ],
   "source": [
    "#question 3\n",
    "\n",
    "''' \n",
    "Question :-What are the main differences between lists and tuples in Python?\n",
    "\n",
    "\n",
    "\n",
    "Answer :- \n",
    "Mutability:\n",
    "Lists are mutable, meaning their contents (elements) can be modified after they are created.\n",
    "Tuples are immutable, meaning their contents cannot be changed after creation.\n",
    "\n",
    "Syntax for both the data type is different list is created by using square bracket []\n",
    "while tuple are created by using paranthises ()\n",
    "'''"
   ]
  },
  {
   "cell_type": "code",
   "execution_count": 44,
   "id": "1a33247a-0c56-4f27-9a29-e70a584f6c3a",
   "metadata": {},
   "outputs": [
    {
     "name": "stdout",
     "output_type": "stream",
     "text": [
      "{'name': 'Alice', 'age': 25, 'city': 'New York'}\n"
     ]
    }
   ],
   "source": [
    "#question 4\n",
    "\n",
    "\n",
    "'''\n",
    "Question:-Describe how dictionaries store data?\n",
    "\n",
    "\n",
    "Answer:-Dictionaries in Python store data as key-value pairs, where each key is unique and \n",
    "maps to a corresponding value.\n",
    "Keys must be unique, immutable types (e.g., strings, integers, tuples).\n",
    "Values can be of any type, mutable or immutable.\n",
    "\n",
    "'''\n",
    "\n",
    "my_dict = {'name': 'Alice', 'age': 25, 'city': 'New York'}\n",
    "print(my_dict)"
   ]
  },
  {
   "cell_type": "code",
   "execution_count": 46,
   "id": "63138027-20ab-4226-aae4-e63804de2532",
   "metadata": {},
   "outputs": [
    {
     "data": {
      "text/plain": [
       "'\\nQuestion:-Why might you use a set instead of a list in Python?\\n\\n\\nAnswer:-Sets automatically ensure that all elements are unique, meaning they do not allow duplicate values. \\nIf you try to add a duplicate element to a set, it will be ignored.\\nLists, on the other hand, can contain duplicate values\\nSets allow you to easily perform set operations like union, intersection, difference, and symmetric difference. \\nThese operations are not as straightforward with lists.\\nSets are unordered collections, meaning the elements do not have a specific order and cannot be accessed via \\nindexing (e.g., my_set[0] will raise an error). If you need to access elements in a specific order,\\nyou would use a list.\\n\\n\\n'"
      ]
     },
     "execution_count": 46,
     "metadata": {},
     "output_type": "execute_result"
    }
   ],
   "source": [
    "#question 5\n",
    "\n",
    "\n",
    "'''\n",
    "Question:-Why might you use a set instead of a list in Python?\n",
    "\n",
    "\n",
    "Answer:-Sets automatically ensure that all elements are unique, meaning they do not allow duplicate values. \n",
    "If you try to add a duplicate element to a set, it will be ignored.\n",
    "Lists, on the other hand, can contain duplicate values\n",
    "Sets allow you to easily perform set operations like union, intersection, difference, and symmetric difference. \n",
    "These operations are not as straightforward with lists.\n",
    "Sets are unordered collections, meaning the elements do not have a specific order and cannot be accessed via \n",
    "indexing (e.g., my_set[0] will raise an error). If you need to access elements in a specific order,\n",
    "you would use a list.\n",
    "\n",
    "\n",
    "'''"
   ]
  },
  {
   "cell_type": "code",
   "execution_count": 50,
   "id": "470b0766-c60c-4470-b256-a12db56fe225",
   "metadata": {},
   "outputs": [
    {
     "data": {
      "text/plain": [
       "'\\nQuestion:-What is a string in Python, and how is it different from a list?\\n\\n\\nAnswer:-\\nA string in Python is a sequence of characters enclosed in either single quotes (\\') or double quotes (\"). \\nIt is a text data type used to represent textual information, \\nsuch as words, sentences, or any other kind of textual content.\\n\\n\\n1)key Differences:\\n1Mutability:\\n\\nString: Strings are immutable, so once a string is created, it cannot be modified directly. \\nTo change a string, you must create a new string.\\nList: Lists are mutable, meaning you can change, add, or remove elements after the list is created.\\n\\n\\n2)Element Types:\\n\\nString: A string can only contain characters (textual data).\\nList: A list can contain elements of any type, including strings, numbers, or even other lists.\\n\\n\\n'"
      ]
     },
     "execution_count": 50,
     "metadata": {},
     "output_type": "execute_result"
    }
   ],
   "source": [
    "#question 6\n",
    "\n",
    "\n",
    "'''\n",
    "Question:-What is a string in Python, and how is it different from a list?\n",
    "\n",
    "\n",
    "Answer:-\n",
    "A string in Python is a sequence of characters enclosed in either single quotes (') or double quotes (\"). \n",
    "It is a text data type used to represent textual information, \n",
    "such as words, sentences, or any other kind of textual content.\n",
    "\n",
    "\n",
    "1)key Differences:\n",
    "1Mutability:\n",
    "\n",
    "String: Strings are immutable, so once a string is created, it cannot be modified directly. \n",
    "To change a string, you must create a new string.\n",
    "List: Lists are mutable, meaning you can change, add, or remove elements after the list is created.\n",
    "\n",
    "\n",
    "2)Element Types:\n",
    "\n",
    "String: A string can only contain characters (textual data).\n",
    "List: A list can contain elements of any type, including strings, numbers, or even other lists.\n",
    "\n",
    "\n",
    "'''"
   ]
  },
  {
   "cell_type": "code",
   "execution_count": 60,
   "id": "047b68ac-57a7-49e1-a30b-2958667846b0",
   "metadata": {},
   "outputs": [
    {
     "data": {
      "text/plain": [
       "'\\nQuestion:-How do tuples ensure data integrity in Python?\\n\\n\\n\\n\\nAnswer:-Tuples ensure data integrity in Python primarily through their immutability,\\nwhich prevents modification of their contents after creation. T\\nhis guarantees that data remains constant, predictable, and safe from accidental changes, \\nmaking tuples ideal for situations where the data must be protected from alteration. Additionally,\\ntheir hashable nature allows them to be used as reliable keys in dictionaries and elements in sets, \\nfurther supporting their role in maintaining data integrity.\\n'"
      ]
     },
     "execution_count": 60,
     "metadata": {},
     "output_type": "execute_result"
    }
   ],
   "source": [
    "#question 7\n",
    "\n",
    "\n",
    "'''\n",
    "Question:-How do tuples ensure data integrity in Python?\n",
    "\n",
    "\n",
    "\n",
    "\n",
    "Answer:-Tuples ensure data integrity in Python primarily through their immutability,\n",
    "which prevents modification of their contents after creation. T\n",
    "his guarantees that data remains constant, predictable, and safe from accidental changes, \n",
    "making tuples ideal for situations where the data must be protected from alteration. Additionally,\n",
    "their hashable nature allows them to be used as reliable keys in dictionaries and elements in sets, \n",
    "further supporting their role in maintaining data integrity.\n",
    "'''"
   ]
  },
  {
   "cell_type": "code",
   "execution_count": 62,
   "id": "2009c836-eadc-4bdf-acc0-5b1a001f9f46",
   "metadata": {},
   "outputs": [
    {
     "data": {
      "text/plain": [
       "'\\nQuestion:-What is a hash table, and how does it relate to dictionaries in Python?\\n\\n\\nAnswer:-A hash table is a data structure that stores data in key-value pairs. \\nIt uses a hash function to convert a key into an index (a number),\\nwhich is then used to store the value in an array-like structure. \\nThis allows for fast retrieval of values based on their key.\\n\\nIn Python, dictionaries are implemented using hash tables.\\nThis means that Python dictionaries use the principles of hash tables to store and retrieve data efficiently.\\n'"
      ]
     },
     "execution_count": 62,
     "metadata": {},
     "output_type": "execute_result"
    }
   ],
   "source": [
    "#question 8\n",
    "\n",
    "\n",
    "\n",
    "\n",
    "\n",
    "\n",
    "'''\n",
    "Question:-What is a hash table, and how does it relate to dictionaries in Python?\n",
    "\n",
    "\n",
    "Answer:-A hash table is a data structure that stores data in key-value pairs. \n",
    "It uses a hash function to convert a key into an index (a number),\n",
    "which is then used to store the value in an array-like structure. \n",
    "This allows for fast retrieval of values based on their key.\n",
    "\n",
    "In Python, dictionaries are implemented using hash tables.\n",
    "This means that Python dictionaries use the principles of hash tables to store and retrieve data efficiently.\n",
    "'''"
   ]
  },
  {
   "cell_type": "code",
   "execution_count": 64,
   "id": "ac278917-f942-4743-97da-62ea7d1c289d",
   "metadata": {},
   "outputs": [
    {
     "data": {
      "text/plain": [
       "'\\nQuestion:-Can lists contain different data types in Python?\\n\\n\\nAnswer:-\\nYes, lists in Python can contain elements of different data types\\nPython list is heterogeneous, meaning it can store integers, strings, floats, objects, \\nand even other lists or collections.\\nLists can hold multiple data types at once.\\nLists are ordered collections, meaning the order of elements is preserved.\\nYou can access, modify, and append items of any data type in the list.\\n'"
      ]
     },
     "execution_count": 64,
     "metadata": {},
     "output_type": "execute_result"
    }
   ],
   "source": [
    "#question 9\n",
    "\n",
    "\n",
    "'''\n",
    "Question:-Can lists contain different data types in Python?\n",
    "\n",
    "\n",
    "Answer:-\n",
    "Yes, lists in Python can contain elements of different data types\n",
    "Python list is heterogeneous, meaning it can store integers, strings, floats, objects, \n",
    "and even other lists or collections.\n",
    "Lists can hold multiple data types at once.\n",
    "Lists are ordered collections, meaning the order of elements is preserved.\n",
    "You can access, modify, and append items of any data type in the list.\n",
    "'''"
   ]
  },
  {
   "cell_type": "code",
   "execution_count": 66,
   "id": "ca4e2206-7434-48cb-bfda-9cddee67df79",
   "metadata": {},
   "outputs": [
    {
     "data": {
      "text/plain": [
       "'\\nQuestion:- Explain why strings are immutable in Python?\\n\\n\\nAnswer:-Strings are immutable in Python for reasons related to memory efficiency, \\ndata integrity, performance optimizations, and to maintain a safe and predictable programming environment. \\nTheir immutability ensures that string values remain constant and unchangeable once created, \\nwhich provides numerous benefits in terms of performance, security, and functional programming practices.\\n'"
      ]
     },
     "execution_count": 66,
     "metadata": {},
     "output_type": "execute_result"
    }
   ],
   "source": [
    "#question 10\n",
    "\n",
    "\n",
    "'''\n",
    "Question:- Explain why strings are immutable in Python?\n",
    "\n",
    "\n",
    "Answer:-Strings are immutable in Python for reasons related to memory efficiency, \n",
    "data integrity, performance optimizations, and to maintain a safe and predictable programming environment. \n",
    "Their immutability ensures that string values remain constant and unchangeable once created, \n",
    "which provides numerous benefits in terms of performance, security, and functional programming practices.\n",
    "'''"
   ]
  },
  {
   "cell_type": "code",
   "execution_count": 68,
   "id": "9bb50e68-e04a-4cc3-a8bf-438bc1280427",
   "metadata": {},
   "outputs": [
    {
     "data": {
      "text/plain": [
       "'\\nQuestion:-What advantages do dictionaries offer over lists for certain tasks?\\n\\n\\nAnswer:-Dictionaries in Python offer several advantages over lists for specific tasks, \\nparticularly when it comes to efficient data access and organization of key-value pairs.\\nOn the other hand, lists are better suited when you need ordered collections or\\nneed to store items without associating them with a key.\\n\\n\\n\\n\\n'"
      ]
     },
     "execution_count": 68,
     "metadata": {},
     "output_type": "execute_result"
    }
   ],
   "source": [
    "#question 11\n",
    "\n",
    "\n",
    "'''\n",
    "Question:-What advantages do dictionaries offer over lists for certain tasks?\n",
    "\n",
    "\n",
    "Answer:-Dictionaries in Python offer several advantages over lists for specific tasks, \n",
    "particularly when it comes to efficient data access and organization of key-value pairs.\n",
    "On the other hand, lists are better suited when you need ordered collections or\n",
    "need to store items without associating them with a key.\n",
    "\n",
    "\n",
    "\n",
    "\n",
    "'''"
   ]
  },
  {
   "cell_type": "code",
   "execution_count": 70,
   "id": "1cdb76e1-4e56-4089-844d-8d5e53290c22",
   "metadata": {},
   "outputs": [
    {
     "name": "stdout",
     "output_type": "stream",
     "text": [
      "Location coordinates: (40.7128, -74.006)\n"
     ]
    }
   ],
   "source": [
    "#question 12\n",
    "\n",
    "\n",
    "'''\n",
    "Question:- Describe a scenario where using a tuple would be preferable over a list\n",
    "\n",
    "\n",
    "Answer:-\n",
    "\n",
    "A scenario where using a tuple would be preferable over a list is when you need to store a collection of values\n",
    "that should not change after they are created. Tuples are immutable, meaning their values cannot be modified, added,\n",
    "or removed after creation. \n",
    "Suppose you are creating a mapping application, \n",
    "and you want to store the coordinates of a specific place (latitude and longitude). \n",
    "Since these values should not change, a tuple is a great choice.\n",
    "'''\n",
    "# Using a tuple to store the coordinates of a location\n",
    "location = (40.7128, -74.0060)  # Latitude and Longitude for New York City\n",
    "\n",
    "# Tuples are immutable, so trying to change the values will raise an error\n",
    "# location[0] = 41.0  # This would raise a TypeError\n",
    "\n",
    "print(f\"Location coordinates: {location}\")"
   ]
  },
  {
   "cell_type": "code",
   "execution_count": 72,
   "id": "6453f3ce-b9a5-472d-8a48-f250b1c89322",
   "metadata": {},
   "outputs": [
    {
     "name": "stdout",
     "output_type": "stream",
     "text": [
      "{1, 2, 3, 4, 5}\n"
     ]
    }
   ],
   "source": [
    "#question 13\n",
    "\n",
    "\n",
    "'''\n",
    "Question:- How do sets handle duplicate values in Python?\n",
    "\n",
    "\n",
    "Answer:-n Python, sets automatically handle duplicate values by only storing unique elements. \n",
    "When you try to add a duplicate value to a set, it will be ignored, and the set will not contain duplicates.\n",
    "\n",
    "'''\n",
    "my_set = {1, 2, 3, 4}\n",
    "\n",
    "# Adding a duplicate value\n",
    "my_set.add(3)  # Duplicate value, won't be added\n",
    "my_set.add(5)  # New value, will be added\n",
    "\n",
    "print(my_set) "
   ]
  },
  {
   "cell_type": "code",
   "execution_count": 74,
   "id": "91838a03-6e29-4423-8416-fe5dc6dc888d",
   "metadata": {},
   "outputs": [
    {
     "name": "stdout",
     "output_type": "stream",
     "text": [
      "True\n",
      "False\n",
      "True\n",
      "False\n",
      "True\n",
      "False\n"
     ]
    }
   ],
   "source": [
    "#question 14\n",
    "\n",
    "\n",
    "'''\n",
    "Question:- How does the “in” keyword work differently for lists and dictionaries?\n",
    "\n",
    "\n",
    "\n",
    "Answer:-The \"in\" keyword works differently for lists and dictionaries in Python \n",
    "because it checks for membership in different ways based on the data structure.\n",
    "When you use the \"in\" keyword with a list, it checks if a specific value is present in the list. \n",
    "The search is performed by iterating over the list, and it returns True if the value exists in the list, \n",
    "otherwise False.\n",
    "\n",
    "When you use the \"in\" keyword with a dictionary, it checks if a key is present in the dictionary. \n",
    "It does not check for values directly, but rather checks if the key exists in the dictionary's set of keys.\n",
    "'''\n",
    "\n",
    "\n",
    "my_list = [1, 2, 3, 4]\n",
    "\n",
    "# Checking if a value is in the list\n",
    "print(3 in my_list)  # Output: True\n",
    "print(5 in my_list)  # Output: False\n",
    "\n",
    "\n",
    "my_dict = {'a': 1, 'b': 2, 'c': 3}\n",
    "\n",
    "# Checking if a key is in the dictionary\n",
    "print('a' in my_dict)  # Output: True\n",
    "print('d' in my_dict)  # Output: False\n",
    "# Checking if a value is in the dictionary\n",
    "print(1 in my_dict.values())  # Output: True\n",
    "print(4 in my_dict.values())  # Output: False\n"
   ]
  },
  {
   "cell_type": "code",
   "execution_count": 76,
   "id": "599178ef-4953-4bb1-a986-c57f6b6b47f6",
   "metadata": {},
   "outputs": [
    {
     "data": {
      "text/plain": [
       "'\\nQuestion:-Can you modify the elements of a tuple? Explain why or why not\\n\\n\\nAnswer:-No, we cannot modify the elements of a tuple in Python because tuples are immutable.\\nTuples are immutable, meaning you cannot modify their elements after creation. However,\\nyou can create new tuples by combining existing ones or by converting them into mutable structures like lists. \\nThe immutability provides benefits in terms of efficiency, safety, and consistency.\\n\\n'"
      ]
     },
     "execution_count": 76,
     "metadata": {},
     "output_type": "execute_result"
    }
   ],
   "source": [
    "#question 15\n",
    "\n",
    "\n",
    "'''\n",
    "Question:-Can you modify the elements of a tuple? Explain why or why not\n",
    "\n",
    "\n",
    "Answer:-No, we cannot modify the elements of a tuple in Python because tuples are immutable.\n",
    "Tuples are immutable, meaning you cannot modify their elements after creation. However,\n",
    "you can create new tuples by combining existing ones or by converting them into mutable structures like lists. \n",
    "The immutability provides benefits in terms of efficiency, safety, and consistency.\n",
    "\n",
    "'''"
   ]
  },
  {
   "cell_type": "code",
   "execution_count": 78,
   "id": "6c359adf-15e5-4cd0-9457-cb4b35bed4ff",
   "metadata": {},
   "outputs": [
    {
     "name": "stdout",
     "output_type": "stream",
     "text": [
      "John\n",
      "New York\n",
      "90\n",
      "Los Angeles\n",
      "95\n",
      "88\n"
     ]
    }
   ],
   "source": [
    "#question 16\n",
    "\n",
    "\n",
    "'''\n",
    "Question:-What is a nested dictionary, and give an example of its use case?\n",
    "\n",
    "\n",
    "Answer:- a dictionary can contain another dictionary as a value, allowing you to store complex, \n",
    "hierarchical data structures.\n",
    "'''\n",
    "\n",
    "# Nested dictionary storing multiple students' information\n",
    "school_data = {\n",
    "    'student_1': {\n",
    "        'name': 'John',\n",
    "        'address': {\n",
    "            'street': '123 Main St',\n",
    "            'city': 'New York',\n",
    "            'zip': '10001'\n",
    "        },\n",
    "        'grades': {\n",
    "            'math': 90,\n",
    "            'english': 85,\n",
    "            'science': 92\n",
    "        }\n",
    "    },\n",
    "    'student_2': {\n",
    "        'name': 'Emma',\n",
    "        'address': {\n",
    "            'street': '456 Oak St',\n",
    "            'city': 'Los Angeles',\n",
    "            'zip': '90001'\n",
    "        },\n",
    "        'grades': {\n",
    "            'math': 95,\n",
    "            'english': 88,\n",
    "            'science': 94\n",
    "        }\n",
    "    }\n",
    "}\n",
    "\n",
    "# Accessing data for student_1\n",
    "print(school_data['student_1']['name']) \n",
    "print(school_data['student_1']['address']['city'])  \n",
    "print(school_data['student_1']['grades']['math'])  \n",
    "\n",
    "# Accessing data for student_2\n",
    "print(school_data['student_2']['address']['city'])  \n",
    "print(school_data['student_2']['grades']['math'])  \n",
    "print(school_data['student_2']['grades']['english'])  \n"
   ]
  },
  {
   "cell_type": "code",
   "execution_count": 80,
   "id": "18dbc0ed-f679-4093-9d94-20def242c4b3",
   "metadata": {},
   "outputs": [
    {
     "data": {
      "text/plain": [
       "'\\nQuestion:-Describe the time complexity of accessing elements in a dictionary?\\n\\n\\nAnswer:-\\nhe time complexity of accessing elements in a Python dictionary is:\\n\\nAverage Case: O(1) (constant time)\\nWorst Case: O(n) (linear time), due to hash collisions\\n\\n\\n'"
      ]
     },
     "execution_count": 80,
     "metadata": {},
     "output_type": "execute_result"
    }
   ],
   "source": [
    "#question 17\n",
    "\n",
    "\n",
    "'''\n",
    "Question:-Describe the time complexity of accessing elements in a dictionary?\n",
    "\n",
    "\n",
    "Answer:-\n",
    "he time complexity of accessing elements in a Python dictionary is:\n",
    "\n",
    "Average Case: O(1) (constant time)\n",
    "Worst Case: O(n) (linear time), due to hash collisions\n",
    "\n",
    "\n",
    "'''"
   ]
  },
  {
   "cell_type": "code",
   "execution_count": 82,
   "id": "35fa2a92-f265-48fc-b960-65b5eca44d55",
   "metadata": {},
   "outputs": [
    {
     "data": {
      "text/plain": [
       "'\\nQuestion:-In what situations are lists preferred over dictionaries \\n\\n\\nAnswer:-\\nLists are preferred over dictionaries in the following situations:\\n\\nWhen Order Matters: Lists maintain the order of elements. If the sequence of items is important, use a list.\\n\\nWhen You Need Indexed Access: Lists allow you to access elements using an index (e.g., my_list[0]), \\nwhich is useful when you need to work with data in a specific position.\\n\\nWhen Storing Duplicates: Lists allow duplicate values, while dictionaries only allow unique keys.\\n\\nWhen You Don’t Need Key-Value Pairing: If you only need a simple collection of elements (like numbers or strings) \\nwithout the need to pair them with keys, a list is simpler.\\n\\n\\n'"
      ]
     },
     "execution_count": 82,
     "metadata": {},
     "output_type": "execute_result"
    }
   ],
   "source": [
    "#question 18\n",
    "\n",
    "\n",
    "'''\n",
    "Question:-In what situations are lists preferred over dictionaries \n",
    "\n",
    "\n",
    "Answer:-\n",
    "Lists are preferred over dictionaries in the following situations:\n",
    "\n",
    "When Order Matters: Lists maintain the order of elements. If the sequence of items is important, use a list.\n",
    "\n",
    "When You Need Indexed Access: Lists allow you to access elements using an index (e.g., my_list[0]), \n",
    "which is useful when you need to work with data in a specific position.\n",
    "\n",
    "When Storing Duplicates: Lists allow duplicate values, while dictionaries only allow unique keys.\n",
    "\n",
    "When You Don’t Need Key-Value Pairing: If you only need a simple collection of elements (like numbers or strings) \n",
    "without the need to pair them with keys, a list is simpler.\n",
    "\n",
    "\n",
    "'''"
   ]
  },
  {
   "cell_type": "code",
   "execution_count": 84,
   "id": "510dc7ca-232d-419d-b938-54f3d9c9bc82",
   "metadata": {},
   "outputs": [
    {
     "data": {
      "text/plain": [
       "\"\\nQuestion:-Why are dictionaries considered unordered, and how does that affect data retrieval?\\n\\n\\nAnswer:-Dictionaries in Python are considered unordered because the elements (key-value pairs)\\ndo not have a specific, predictable order. This means that when you iterate through a dictionary, \\nthe order in which the items are retrieved is not guaranteed to be the same as when they were added.\\nDictionaries are unordered because the key-value pairs are stored based on their hash values, \\nnot in the order they were added.\\nData retrieval (accessing values by keys) is fast and not affected by the unordered nature.\\nIteration over a dictionary does not guarantee the same order as insertion,\\nwhich may not be important when you're mainly interested in fast lookups by key. \\nHowever, if order matters, you can use OrderedDict (from the collections module) \\nor Python 3.7+ (where insertion order is preserved in regular dictionaries, though still technically unordered).\\n\\n\\n\\n\""
      ]
     },
     "execution_count": 84,
     "metadata": {},
     "output_type": "execute_result"
    }
   ],
   "source": [
    "#question 19\n",
    "\n",
    "\n",
    "'''\n",
    "Question:-Why are dictionaries considered unordered, and how does that affect data retrieval?\n",
    "\n",
    "\n",
    "Answer:-Dictionaries in Python are considered unordered because the elements (key-value pairs)\n",
    "do not have a specific, predictable order. This means that when you iterate through a dictionary, \n",
    "the order in which the items are retrieved is not guaranteed to be the same as when they were added.\n",
    "Dictionaries are unordered because the key-value pairs are stored based on their hash values, \n",
    "not in the order they were added.\n",
    "Data retrieval (accessing values by keys) is fast and not affected by the unordered nature.\n",
    "Iteration over a dictionary does not guarantee the same order as insertion,\n",
    "which may not be important when you're mainly interested in fast lookups by key. \n",
    "However, if order matters, you can use OrderedDict (from the collections module) \n",
    "or Python 3.7+ (where insertion order is preserved in regular dictionaries, though still technically unordered).\n",
    "\n",
    "\n",
    "\n",
    "'''"
   ]
  },
  {
   "cell_type": "code",
   "execution_count": 86,
   "id": "1b88cb08-dc2f-465e-bcda-d2131d222bdd",
   "metadata": {},
   "outputs": [
    {
     "data": {
      "text/plain": [
       "'\\nQuestion:- Explain the difference between a list and a dictionary in terms of data retrieval.\\n\\n\\nAnswer:-\\nList: You retrieve data based on index position, and the order of elements is important.\\nDictionary: You retrieve data based on a key, which uniquely identifies a value,\\nand the order of elements is not inherently important.\\n\\n\\n\\n'"
      ]
     },
     "execution_count": 86,
     "metadata": {},
     "output_type": "execute_result"
    }
   ],
   "source": [
    "#question 20\n",
    "\n",
    "\n",
    "'''\n",
    "Question:- Explain the difference between a list and a dictionary in terms of data retrieval.\n",
    "\n",
    "\n",
    "Answer:-\n",
    "List: You retrieve data based on index position, and the order of elements is important.\n",
    "Dictionary: You retrieve data based on a key, which uniquely identifies a value,\n",
    "and the order of elements is not inherently important.\n",
    "\n",
    "\n",
    "\n",
    "'''"
   ]
  },
  {
   "cell_type": "code",
   "execution_count": null,
   "id": "6e3c9d28-58f5-4642-97a6-bb415b53b1e5",
   "metadata": {},
   "outputs": [],
   "source": []
  },
  {
   "cell_type": "code",
   "execution_count": null,
   "id": "463d24ef-8a5b-4d3f-b2f1-61534a02de84",
   "metadata": {},
   "outputs": [],
   "source": []
  },
  {
   "cell_type": "code",
   "execution_count": null,
   "id": "33567ecb-4b84-4093-885c-da46be8603d6",
   "metadata": {},
   "outputs": [],
   "source": []
  },
  {
   "cell_type": "code",
   "execution_count": null,
   "id": "083ca4bf-00b4-47cd-ab6a-c88836ca6b9f",
   "metadata": {},
   "outputs": [],
   "source": []
  },
  {
   "cell_type": "code",
   "execution_count": null,
   "id": "03e404a3-bb24-4482-b763-86375423c062",
   "metadata": {},
   "outputs": [],
   "source": []
  },
  {
   "cell_type": "code",
   "execution_count": null,
   "id": "a1e30698-5b60-4f4e-986f-086b7726b972",
   "metadata": {},
   "outputs": [],
   "source": []
  },
  {
   "cell_type": "code",
   "execution_count": null,
   "id": "1ff3f424-e313-4d37-a4a9-7b2d168da5cf",
   "metadata": {},
   "outputs": [],
   "source": []
  },
  {
   "cell_type": "code",
   "execution_count": null,
   "id": "e3b33665-560c-4c6d-9b53-20db613bd5a5",
   "metadata": {},
   "outputs": [],
   "source": []
  },
  {
   "cell_type": "code",
   "execution_count": 96,
   "id": "fb4f6fad-eb00-4271-9b2c-80df47389040",
   "metadata": {},
   "outputs": [],
   "source": [
    "#practical Question \n"
   ]
  },
  {
   "cell_type": "code",
   "execution_count": 144,
   "id": "016b37a7-b15c-41a6-bc17-e55a9b63a479",
   "metadata": {},
   "outputs": [
    {
     "name": "stdout",
     "output_type": "stream",
     "text": [
      "My name is SANCHITA TIWARI\n"
     ]
    }
   ],
   "source": [
    "#question1\n",
    "#Write a code to create a string with your name and print it\n",
    "String1 = \"SANCHITA TIWARI\"\n",
    "print(\"My name is\" +\" \"+ String1)"
   ]
  },
  {
   "cell_type": "code",
   "execution_count": 148,
   "id": "1a21c7b3-114a-4d8b-b576-5f23b15eb6d6",
   "metadata": {},
   "outputs": [
    {
     "name": "stdout",
     "output_type": "stream",
     "text": [
      "the lent of the string is  11\n"
     ]
    }
   ],
   "source": [
    "#question2\n",
    "#Write a code to find the length of the string \"Hello World\"\n",
    "a = \"Hello World\"\n",
    "print(\"the lent of the string is \" , len(a))"
   ]
  },
  {
   "cell_type": "code",
   "execution_count": 150,
   "id": "b4adc041-ef40-4f28-8768-7b382e1b94f4",
   "metadata": {},
   "outputs": [
    {
     "name": "stdout",
     "output_type": "stream",
     "text": [
      "the original string is  Python Programming\n",
      "after slice string is  hon Programming\n"
     ]
    }
   ],
   "source": [
    "#question3\n",
    "#Write a code to slice the first 3 characters from the string \"Python Programming\".\n",
    "\n",
    "b = \"Python Programming\"\n",
    "print(\"the original string is \",b)\n",
    "c= b[3:]\n",
    "print(\"after slice string is \" ,c) "
   ]
  },
  {
   "cell_type": "code",
   "execution_count": 154,
   "id": "8f83c5b6-bc8c-43b2-8f88-cdd318c18e80",
   "metadata": {},
   "outputs": [
    {
     "name": "stdout",
     "output_type": "stream",
     "text": [
      "HELLO\n"
     ]
    }
   ],
   "source": [
    "#question4\n",
    "#Write a code to convert the string \"hello\" to uppercase\n",
    "\n",
    "b = \"hello\"\n",
    "c = b.upper()\n",
    "print(c)"
   ]
  },
  {
   "cell_type": "code",
   "execution_count": 156,
   "id": "3549ae5e-5476-4d6d-b9d6-748b1271d793",
   "metadata": {},
   "outputs": [
    {
     "name": "stdout",
     "output_type": "stream",
     "text": [
      "before replace I like apple\n",
      "after replace I like orange\n"
     ]
    }
   ],
   "source": [
    "#question5\n",
    "#Write a code to replace the word \"apple\" with \"orange\" in the string \"I like apple\n",
    "\n",
    "a = \"I like apple\"\n",
    "print(\"before replace\" , a)\n",
    "b = a.replace(\"apple\",\"orange\") \n",
    "print(\"after replace\" , b)"
   ]
  },
  {
   "cell_type": "code",
   "execution_count": 158,
   "id": "9ab45579-2920-4678-a899-f4bcb1aa45e7",
   "metadata": {},
   "outputs": [
    {
     "name": "stdout",
     "output_type": "stream",
     "text": [
      "1\n",
      "2\n",
      "3\n",
      "4\n",
      "5\n"
     ]
    }
   ],
   "source": [
    "#question6\n",
    "# Write a code to create a list with numbers 1 to 5 and print it\n",
    "my_list = [1,2,3,4,5]\n",
    "for i in my_list:\n",
    "    print(i)\n"
   ]
  },
  {
   "cell_type": "code",
   "execution_count": 162,
   "id": "400ef079-539e-437f-b0c7-010320895743",
   "metadata": {},
   "outputs": [
    {
     "name": "stdout",
     "output_type": "stream",
     "text": [
      "list before append [1, 2, 3, 4]\n",
      "after append [1, 2, 3, 4, 10]\n"
     ]
    }
   ],
   "source": [
    "#question7\n",
    "#Write a code to append the number 10 to the list [1, 2, 3, 4]\n",
    "my_list=[1,2,3,4]\n",
    "print(\"list before append\",my_list)\n",
    "my_list.append(10)\n",
    "print(\"after append\",my_list)"
   ]
  },
  {
   "cell_type": "code",
   "execution_count": 164,
   "id": "18c3f054-873a-44de-823f-5151af74c370",
   "metadata": {},
   "outputs": [
    {
     "name": "stdout",
     "output_type": "stream",
     "text": [
      "list before remove [1, 2, 3, 4, 5]\n",
      "after remove list  [1, 2, 4, 5]\n"
     ]
    }
   ],
   "source": [
    "#question8\n",
    "#Write a code to remove the number 3 from the list [1, 2, 3, 4, 5]\n",
    "list1 =[1,2,3,4,5]\n",
    "print(\"list before remove\",list1)\n",
    "list1.remove(3)\n",
    "print(\"after remove list \",list1)"
   ]
  },
  {
   "cell_type": "code",
   "execution_count": 168,
   "id": "b3a148c6-b864-423d-b222-21eb276f26de",
   "metadata": {},
   "outputs": [
    {
     "data": {
      "text/plain": [
       "'b'"
      ]
     },
     "execution_count": 168,
     "metadata": {},
     "output_type": "execute_result"
    }
   ],
   "source": [
    "#question9\n",
    "# Write a code to access the second element in the list ['a', 'b', 'c', 'd']\n",
    "\n",
    "list1 =['a','b','c','d']\n",
    "list1[1]"
   ]
  },
  {
   "cell_type": "code",
   "execution_count": 170,
   "id": "feb08029-745d-4b2e-8862-a679d2fbcf05",
   "metadata": {},
   "outputs": [
    {
     "name": "stdout",
     "output_type": "stream",
     "text": [
      "[50, 40, 30, 20, 10]\n"
     ]
    }
   ],
   "source": [
    "#question10\n",
    "#Write a code to reverse the list [10, 20, 30, 40, 50].\n",
    "list1 =[10,20,30,40,50]\n",
    "list2 = list1[::-1]\n",
    "print(list2)"
   ]
  },
  {
   "cell_type": "code",
   "execution_count": 172,
   "id": "01fcb7c1-b90c-4b5c-ab14-b72fa4106a3e",
   "metadata": {},
   "outputs": [
    {
     "name": "stdout",
     "output_type": "stream",
     "text": [
      "10\n",
      "20\n",
      "30\n"
     ]
    }
   ],
   "source": [
    "#question11\n",
    "# Write a code to create a tuple with the elements 10, 20, 30 and print it.\n",
    "my_tuple = (10,20,30)\n",
    "for i in my_tuple:\n",
    "    print(i)\n"
   ]
  },
  {
   "cell_type": "code",
   "execution_count": 174,
   "id": "03713d1a-647d-4308-a29a-40286671710e",
   "metadata": {},
   "outputs": [
    {
     "data": {
      "text/plain": [
       "'apple'"
      ]
     },
     "execution_count": 174,
     "metadata": {},
     "output_type": "execute_result"
    }
   ],
   "source": [
    "#question12\n",
    "#Write a code to access the first element of the tuple ('apple', 'banana', 'cherry').\n",
    "a = ('apple', 'banana', 'cherry')\n",
    "a[0]"
   ]
  },
  {
   "cell_type": "code",
   "execution_count": 176,
   "id": "d58b6fe2-ed62-4189-8025-b10615a5db1a",
   "metadata": {},
   "outputs": [
    {
     "name": "stdout",
     "output_type": "stream",
     "text": [
      "3\n"
     ]
    }
   ],
   "source": [
    "#question13\n",
    "#Write a code to count how many times the number 2 appears in the tuple (1, 2, 3, 2, 4, 2)\n",
    "a = (1,2,3,2,4,2)\n",
    "b= a.count(2)\n",
    "print(b)"
   ]
  },
  {
   "cell_type": "code",
   "execution_count": 178,
   "id": "096088a3-a30c-4ea4-be9d-28855d40a26d",
   "metadata": {},
   "outputs": [
    {
     "name": "stdout",
     "output_type": "stream",
     "text": [
      "1\n"
     ]
    }
   ],
   "source": [
    "#question14\n",
    "# Write a code to find the index of the element \"cat\" in the tuple ('dog', 'cat', 'rabbit')\n",
    "a = ('dog', 'cat', 'rabbit')\n",
    "b = a.index('cat')\n",
    "print(b)"
   ]
  },
  {
   "cell_type": "code",
   "execution_count": 182,
   "id": "797bdfcb-cdc2-4a5c-a133-7d72456b2d5c",
   "metadata": {},
   "outputs": [
    {
     "name": "stdout",
     "output_type": "stream",
     "text": [
      "is present\n"
     ]
    }
   ],
   "source": [
    "#question15\n",
    "#Write a code to check if the element \"banana\" is in the tuple ('apple', 'orange', 'banana').\n",
    "a = ('apple', 'orange', 'banana')\n",
    "if \"banana\" in a:\n",
    "    print(\"is present\")\n",
    "else:\n",
    "    print(\"not present\")"
   ]
  },
  {
   "cell_type": "code",
   "execution_count": 184,
   "id": "75eb7996-32c4-4c93-89d0-cccf4a187fba",
   "metadata": {},
   "outputs": [
    {
     "name": "stdout",
     "output_type": "stream",
     "text": [
      "1\n",
      "2\n",
      "3\n",
      "4\n",
      "5\n"
     ]
    }
   ],
   "source": [
    "#question16\n",
    "# Write a code to create a set with the elements 1, 2, 3, 4, 5 and print it.\n",
    "s = {1,2,3,4,5}\n",
    "for i in s :\n",
    "    print(i)"
   ]
  },
  {
   "cell_type": "code",
   "execution_count": 186,
   "id": "69fe24cd-28e4-410a-9663-a5c22cbe65bb",
   "metadata": {},
   "outputs": [
    {
     "name": "stdout",
     "output_type": "stream",
     "text": [
      "{1, 2, 3, 4, 6}\n"
     ]
    }
   ],
   "source": [
    "#question17\n",
    "#Write a code to add the element 6 to the set {1, 2, 3, 4}.\n",
    "s = {1,2,3,4}\n",
    "s.add(6)\n",
    "print(s)"
   ]
  },
  {
   "cell_type": "code",
   "execution_count": 188,
   "id": "3fd7fef2-a542-4312-8bd2-b6d1c0d63bf7",
   "metadata": {},
   "outputs": [
    {
     "name": "stdout",
     "output_type": "stream",
     "text": [
      "10\n",
      "20\n",
      "30\n"
     ]
    }
   ],
   "source": [
    "#question18\n",
    "# Write a code to create a tuple with the elements 10, 20, 30 and print it.\n",
    "t = (10,20,30)\n",
    "for i in t:\n",
    "    print(i)"
   ]
  },
  {
   "cell_type": "code",
   "execution_count": 190,
   "id": "d28d291c-bd7b-4dc8-902e-993741a7b2eb",
   "metadata": {},
   "outputs": [
    {
     "data": {
      "text/plain": [
       "'apple'"
      ]
     },
     "execution_count": 190,
     "metadata": {},
     "output_type": "execute_result"
    }
   ],
   "source": [
    "#question19\n",
    "#Write a code to access the first element of the tuple ('apple', 'banana', 'cherry').\n",
    "t = ('apple', 'banana', 'cherry')\n",
    "t[0]"
   ]
  },
  {
   "cell_type": "code",
   "execution_count": 192,
   "id": "06ff1bd5-d642-47d1-a8b2-f4fc25b4701e",
   "metadata": {},
   "outputs": [
    {
     "data": {
      "text/plain": [
       "3"
      ]
     },
     "execution_count": 192,
     "metadata": {},
     "output_type": "execute_result"
    }
   ],
   "source": [
    "#question20\n",
    "# Write a code to count how many times the number 2 appears in the tuple (1, 2, 3, 2, 4, 2).\n",
    "t = (1,2,3,2,4,2)\n",
    "s = t.count(2)\n",
    "s"
   ]
  },
  {
   "cell_type": "code",
   "execution_count": 194,
   "id": "f5d2a9d7-d432-4611-a39a-80a40d5f7226",
   "metadata": {},
   "outputs": [
    {
     "data": {
      "text/plain": [
       "1"
      ]
     },
     "execution_count": 194,
     "metadata": {},
     "output_type": "execute_result"
    }
   ],
   "source": [
    "#question21\n",
    "#Write a code to find the index of the element \"cat\" in the tuple ('dog', 'cat', 'rabbit').\n",
    "t = ('dog', 'cat', 'rabbit')\n",
    "s = t.index('cat')\n",
    "s"
   ]
  },
  {
   "cell_type": "code",
   "execution_count": 196,
   "id": "a4e0b7f2-ede0-409e-82a4-9b1145755ca9",
   "metadata": {},
   "outputs": [
    {
     "name": "stdout",
     "output_type": "stream",
     "text": [
      "banana is there\n"
     ]
    }
   ],
   "source": [
    "#question22\n",
    "# Write a code to check if the element \"banana\" is in the tuple ('apple', 'orange', 'banana')\n",
    "t = ('apple', 'orange', 'banana')\n",
    "if \"banana\" in t:\n",
    "    print(\"banana is there\")\n",
    "else:\n",
    "    print(\"banana is not there\")"
   ]
  },
  {
   "cell_type": "code",
   "execution_count": 202,
   "id": "ad27df48-0edc-44c2-b997-8355e2215480",
   "metadata": {},
   "outputs": [
    {
     "name": "stdout",
     "output_type": "stream",
     "text": [
      "{1, 2, 3, 4, 5}\n"
     ]
    }
   ],
   "source": [
    "#question23\n",
    "# Write a code to create a set with the elements 1, 2, 3, 4, 5 and print it.\n",
    "my_set = {1, 2, 3, 4, 5}\n",
    "\n",
    "print(my_set)"
   ]
  },
  {
   "cell_type": "code",
   "execution_count": 204,
   "id": "b7c23bfc-c8d1-40c4-b893-f8ed4268f58d",
   "metadata": {},
   "outputs": [
    {
     "data": {
      "text/plain": [
       "{1, 2, 3, 4, 6}"
      ]
     },
     "execution_count": 204,
     "metadata": {},
     "output_type": "execute_result"
    }
   ],
   "source": [
    "#question24\n",
    "#Write a code to add the element 6 to the set {1, 2, 3, 4}.\n",
    "s = {1,2,3,4}\n",
    "s.add(6)\n",
    "s"
   ]
  },
  {
   "cell_type": "code",
   "execution_count": null,
   "id": "fa06e7d6-e4dc-416d-abeb-09feda46bfcf",
   "metadata": {},
   "outputs": [],
   "source": []
  }
 ],
 "metadata": {
  "kernelspec": {
   "display_name": "Python 3 (ipykernel)",
   "language": "python",
   "name": "python3"
  },
  "language_info": {
   "codemirror_mode": {
    "name": "ipython",
    "version": 3
   },
   "file_extension": ".py",
   "mimetype": "text/x-python",
   "name": "python",
   "nbconvert_exporter": "python",
   "pygments_lexer": "ipython3",
   "version": "3.12.7"
  }
 },
 "nbformat": 4,
 "nbformat_minor": 5
}
